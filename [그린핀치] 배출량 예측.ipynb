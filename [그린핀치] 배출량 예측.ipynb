{
 "cells": [
  {
   "cell_type": "markdown",
   "id": "f64464d2",
   "metadata": {},
   "source": [
    "# 전처리 모듈: preprocess.py\n",
    "* 주피터노트북이 존재하는 경로 상에 preprocess.py 파일이 있어야 함"
   ]
  },
  {
   "cell_type": "code",
   "execution_count": null,
   "id": "109e6803",
   "metadata": {
    "ExecuteTime": {
     "end_time": "2021-09-15T05:58:48.775686Z",
     "start_time": "2021-09-15T05:58:48.756595Z"
    }
   },
   "outputs": [],
   "source": [
    "# 경로 설정   \n",
    "import os\n",
    "os.getcwd()"
   ]
  },
  {
   "cell_type": "code",
   "execution_count": null,
   "id": "d8c16b91",
   "metadata": {
    "ExecuteTime": {
     "end_time": "2021-09-15T05:58:50.251203Z",
     "start_time": "2021-09-15T05:58:49.185311Z"
    }
   },
   "outputs": [],
   "source": [
    "import pandas as pd \n",
    "import numpy as np\n",
    "import datetime as dt\n",
    "from  datetime import datetime, timedelta, date\n",
    "from math import sqrt\n",
    "\n",
    "from sklearn.linear_model import LinearRegression\n",
    "from sklearn.impute import KNNImputer\n",
    "from sklearn.preprocessing import MinMaxScaler\n",
    "from sklearn.preprocessing import minmax_scale\n",
    "from tqdm import tqdm\n",
    "import joblib\n",
    "\n",
    "import matplotlib.pyplot as plt\n",
    "import seaborn as sns\n",
    "%matplotlib inline\n",
    "\n",
    "## 폰트\n",
    "from matplotlib import font_manager, rc\n",
    "rc('font', family='AppleGothic')\n",
    "plt.rcParams['axes.unicode_minus'] = False\n",
    "\n",
    "import time\n",
    "import pickle\n",
    "\n",
    "import plotly \n",
    "import plotly.express as px\n",
    "import plotly.graph_objects as go\n",
    "\n",
    "import warnings\n",
    "warnings.filterwarnings('ignore')\n",
    "\n",
    "## display\n",
    "pd.set_option('display.max_rows', None)\n",
    "pd.set_option('display.max_columns', None)\n",
    "pd.set_option('display.max_seq_items', None)"
   ]
  },
  {
   "cell_type": "code",
   "execution_count": null,
   "id": "67276001",
   "metadata": {
    "ExecuteTime": {
     "end_time": "2021-09-15T05:58:51.894857Z",
     "start_time": "2021-09-15T05:58:51.889701Z"
    }
   },
   "outputs": [],
   "source": [
    "# 전처리 모듈\n",
    "import preprocess_ver0913 as prep"
   ]
  },
  {
   "cell_type": "code",
   "execution_count": null,
   "id": "ec377616",
   "metadata": {
    "ExecuteTime": {
     "end_time": "2021-09-15T05:58:56.663645Z",
     "start_time": "2021-09-15T05:58:56.287469Z"
    }
   },
   "outputs": [],
   "source": [
    "import catboost\n",
    "from catboost import *\n",
    "import shap"
   ]
  },
  {
   "cell_type": "code",
   "execution_count": null,
   "id": "bd2b2a26",
   "metadata": {
    "ExecuteTime": {
     "end_time": "2021-09-15T05:58:54.601386Z",
     "start_time": "2021-09-15T05:58:54.476323Z"
    }
   },
   "outputs": [],
   "source": [
    "import xgboost as xgb\n",
    "from catboost import Pool\n",
    "from catboost import CatBoostRegressor\n",
    "from lightgbm import LGBMRegressor\n",
    "\n",
    "from sklearn.svm import SVR\n",
    "from sklearn.preprocessing import StandardScaler, MinMaxScaler\n",
    "from sklearn.feature_selection import RFE,RFECV\n",
    "from sklearn.naive_bayes import GaussianNB\n",
    "from mlxtend.regressor import StackingRegressor\n",
    "from sklearn.linear_model import LinearRegression, Lasso, LassoCV\n",
    "from sklearn.model_selection import RepeatedKFold\n",
    "from sklearn.model_selection import KFold, cross_val_score,StratifiedKFold\n",
    "from sklearn.model_selection import train_test_split\n",
    "from sklearn.model_selection import GridSearchCV, RandomizedSearchCV \n",
    "from sklearn.metrics import mean_squared_error, mean_absolute_error, mean_squared_log_error\n",
    "from sklearn.preprocessing import LabelEncoder"
   ]
  },
  {
   "cell_type": "markdown",
   "id": "71fc3aea",
   "metadata": {},
   "source": [
    "# Model 1. CatBoost"
   ]
  },
  {
   "cell_type": "markdown",
   "id": "e9ea1fd6",
   "metadata": {},
   "source": [
    "## 데이터 불러오기"
   ]
  },
  {
   "cell_type": "code",
   "execution_count": null,
   "id": "e3e68b5a",
   "metadata": {
    "ExecuteTime": {
     "end_time": "2021-09-15T03:28:11.847456Z",
     "start_time": "2021-09-15T03:28:07.748234Z"
    }
   },
   "outputs": [],
   "source": [
    "#df_train\n",
    "df = pd.read_csv('df_ver0914.csv', encoding='cp949-')\n",
    "df[\"기준일자\"] = pd.to_datetime(df['기준일자'], format='%Y-%m-%d')\n",
    "df['year_month'] = pd.to_datetime(df['year_month'])\n",
    "\n",
    "\n",
    "#df_test\n",
    "df_test = pd.read_csv('df_test_pred.csv', encoding='cp949')\n",
    "df_test[\"기준일자\"] = pd.to_datetime(df_test['기준일자'], format='%Y-%m-%d')"
   ]
  },
  {
   "cell_type": "code",
   "execution_count": null,
   "id": "1395b929",
   "metadata": {
    "ExecuteTime": {
     "end_time": "2021-09-15T03:28:11.995349Z",
     "start_time": "2021-09-15T03:28:11.850493Z"
    }
   },
   "outputs": [],
   "source": [
    "df = df[df['배출량'].notna()]"
   ]
  },
  {
   "cell_type": "code",
   "execution_count": null,
   "id": "38db0050",
   "metadata": {
    "ExecuteTime": {
     "end_time": "2021-09-15T03:28:12.598790Z",
     "start_time": "2021-09-15T03:28:11.999539Z"
    }
   },
   "outputs": [],
   "source": [
    "df['dateName'] = df['dateName'].fillna('일반')\n",
    "df_test['dateName'] = df_test['dateName'].fillna('일반')\n",
    "df_test['화물량'] = df_test['화물량'].fillna(9104.84)\n",
    "df = df.fillna(0)\n",
    "df_test = df_test.fillna(0)"
   ]
  },
  {
   "cell_type": "code",
   "execution_count": null,
   "id": "0928a0c5",
   "metadata": {
    "ExecuteTime": {
     "end_time": "2021-09-15T03:28:12.735287Z",
     "start_time": "2021-09-15T03:28:12.617944Z"
    }
   },
   "outputs": [],
   "source": [
    "drop_list = ['행정동_코드', '배출건수', '총_지불금액', '외식_결제건수', '외식_결제금액', \n",
    "       '간식_결제건수', '농축수산물_결제건수', '마트/슈퍼마켓_결제건수', '배달_결제건수', '부페_결제건수',\n",
    "       '식품_결제건수', '아시아음식_결제건수', '양식_결제건수', '주점및주류판매_결제건수', '패스트푸드_결제건수',\n",
    "       '한식_결제건수', '간식_결제금액', '농축수산물_결제금액', '마트/슈퍼마켓_결제금액', '배달_결제금액',\n",
    "       '부페_결제금액', '식품_결제금액', '아시아음식_결제금액', '양식_결제금액', '주점및주류판매_결제금액',\n",
    "       '패스트푸드_결제금액', '한식_결제금액', '외식_결제건수', '외식_결제금액', '1회당_외식_결제금액',\n",
    "       '1회당_마트/슈퍼마켓_결제금액', '1회당_배달_결제금액', '1회당_농축수산물_결제금액']\n",
    "df = df.drop(drop_list, axis=1)"
   ]
  },
  {
   "cell_type": "code",
   "execution_count": null,
   "id": "a9d10573",
   "metadata": {
    "ExecuteTime": {
     "end_time": "2021-09-15T03:28:12.818942Z",
     "start_time": "2021-09-15T03:28:12.736471Z"
    }
   },
   "outputs": [],
   "source": [
    "df_train = df.copy()"
   ]
  },
  {
   "cell_type": "markdown",
   "id": "8b677900",
   "metadata": {},
   "source": [
    "## LASSO 변수선택"
   ]
  },
  {
   "cell_type": "markdown",
   "id": "4d9b2724",
   "metadata": {},
   "source": [
    "### 라벨 인코딩"
   ]
  },
  {
   "cell_type": "code",
   "execution_count": null,
   "id": "e41489a6",
   "metadata": {
    "ExecuteTime": {
     "end_time": "2021-09-15T03:28:12.884986Z",
     "start_time": "2021-09-15T03:28:12.821105Z"
    }
   },
   "outputs": [],
   "source": [
    "#cate_fe = {'시_구분','dayofweek_name','season','dateName','period','행정동명','읍면동'}\n",
    "cate_fe = {'year','dayofweek_name','season','dateName','행정동명','시_구분','period','읍면동','month'}\n",
    "for col in cate_fe:\n",
    "    local_map = {}\n",
    "    for i, loc in enumerate(df[col].unique()):\n",
    "        local_map[loc] = i\n",
    "    df[col] = df[col].map(local_map)\n",
    "    df[col] = df[col].astype('category')"
   ]
  },
  {
   "cell_type": "code",
   "execution_count": null,
   "id": "c6f0036f",
   "metadata": {
    "ExecuteTime": {
     "end_time": "2021-09-15T03:28:12.895556Z",
     "start_time": "2021-09-15T03:28:12.889064Z"
    }
   },
   "outputs": [],
   "source": [
    "# 범주형 변수 지정\n",
    "cat_features = [\"시_구분\", \"행정동명\",'dayofweek_name','season','dateName','is_weekend','isHoliday',\n",
    "                'year','month','clust_방문거주', 'clust_방문거주2',\n",
    "                'kclus_배출', 'kclus_거주연령', 'kclus_시간유동', 'kclus_방문유동', 'kclus_카드소비', \n",
    "                'kclus_ratio','kclus_세대수', 'kclus_배출량2','kclus_카드','kclus_month_코로나',\n",
    "                'period','읍면동']"
   ]
  },
  {
   "cell_type": "code",
   "execution_count": null,
   "id": "fe5f4d24",
   "metadata": {
    "ExecuteTime": {
     "end_time": "2021-09-15T03:28:12.912185Z",
     "start_time": "2021-09-15T03:28:12.896523Z"
    }
   },
   "outputs": [],
   "source": [
    "# 피쳐 리스트\n",
    "features = ['kclus_세대수','kclus_month_코로나','면적','density','읍면동','평균 해면기압(hPa)',\n",
    "            '30대_항공','30대_맛집','20대_맛집','제주_확진자수','30대_버스','신선식품지수','day','60대_숙박',\n",
    "            '평균 상대습도(%)','50대_제주코로나','50대_버스','60대_맛집','period','40대_날씨','합계 일사량(MJ/m2)',\n",
    "            '세대당_농축수산물_결제금액','여성_거주인구','30대_날씨','제주항공주가','전국_격리중_환자수','고등학교등교여부',\n",
    "            '초등학교등교여부','태풍','제주_사망자수','평균기온(°C)','제주_해외유입수','is_weekend','1시간 최다일사량(MJ/m2)',\n",
    "            '전체_렌트카','최대 순간 풍속(m/s)','20대_숙박','20대_렌트카','50대_날씨','40대_숙박','세대수','식료품소매',\n",
    "            'dayofweek_name','dateName','60대_렌트카','20대_코로나','평균 풍속(m/s)','최고 해면기압(hPa)','전국_해외유입수',\n",
    "            '전체_코로나','60대_제주코로나','중학교개수','40대_맛집','남성_거주인구','isHoliday','행정동명','50대_여성_코로나',\n",
    "            '30대_렌트카','clust_방문거주','제주_격리중_환자수','평균 전운량(1/10)','40대_여성_코로나','제주_전일대비_증감수',\n",
    "            '20대_버스','전체_제주코로나','60대_날씨','전체_숙박','kclus_ratio','최저기온(°C)','합계 소형증발량(mm)',\n",
    "            'kclus_배출','평균 현지기압(hPa)','60대_남성_코로나','50대_맛집','캠프/별장/펜션','세대당_배달_결제건수',\n",
    "            '합계 대형증발량(mm)','dayofyear','최고기온(°C)','최저 해면기압(hPa)','초등학교개수','전체_항공',\n",
    "            '평균 중하층운량(1/10)','time_idx','60대_버스','50대_항공','전체_버스','생활물가지수','강수 계속시간(hr)',\n",
    "            'kclus_결제건수','유스호스텔','대기업본사','최소 상대습도(%)','kclus_카드소비','전국_확진자수','20대_항공',\n",
    "            'year','20대_제주코로나','60대_여성_코로나','60대_항공','전국_전일대비_증감수','상가','평균 이슬점온도(°C)',\n",
    "            '학문/교육','month_cos','50대_숙박','숙박','거점지역_개수','민박/하숙','고등학교개수','30대_제주코로나',\n",
    "            '안개 계속시간(hr)','40대_제주코로나','weeknumber','제주_격리해제수','kclus_배출량2','스타벅스','50대_남성_코로나',\n",
    "            '40대_항공','30대_숙박','kclus_시간유동','한국인세대수','하나투어주가','일강수량(mm)','캠핑장',\n",
    "            '세대당_마트/슈퍼마켓_결제금액','50대_렌트카','10분 최다 강수량(mm)','month','1시간 최다강수량(mm)',\n",
    "            '최대 풍속(m/s)','20대_날씨','합계 일조시간(hr)','40대_남성_코로나','전체_맛집','중학교등교여부',\n",
    "            'season','clust_방문거주2','kclus_카드','dayofweek_num','시_구분','호텔/콘도','30대_코로나',\n",
    "            '모텔/여관/여인숙','음식','전국_사망자수','전국_격리해제수','kclus_방문유동','kclus_거주연령','전체_날씨',\n",
    "            '세대당_외식_결제금액','총거주인구','롯데관광주가','화물량','40대_렌트카','40대_버스','학교개수','평균 증기압(hPa)',\n",
    "            '카페','전체_코로나_lag1','전체_코로나_lag3','전체_코로나_lag5','전체_코로나_lag7','전체_코로나_lag14',\n",
    "            '전체_숙박_lag1','전체_숙박_lag3','전체_숙박_lag5','전체_숙박_lag7','전체_숙박_lag14','전체_버스_lag1',\n",
    "            '전체_버스_lag3','전체_버스_lag5','전체_버스_lag7','전체_버스_lag14','전체_맛집_lag1','전체_맛집_lag3',\n",
    "            '전체_맛집_lag5','전체_맛집_lag7','전체_맛집_lag14','전체_렌트카_lag1','전체_렌트카_lag3','전체_렌트카_lag5',\n",
    "            '전체_렌트카_lag7','전체_렌트카_lag14','전체_날씨_lag1','전체_날씨_lag3','전체_날씨_lag5','전체_날씨_lag7',\n",
    "            '전체_날씨_lag14','전체_항공_lag1','전체_항공_lag3','전체_항공_lag5','전체_항공_lag7','전체_항공_lag14',\n",
    "            '전체_제주코로나_lag1','전체_제주코로나_lag3','전체_제주코로나_lag5','전체_제주코로나_lag7','전체_제주코로나_lag14',\n",
    "            '평균기온(°C)_lag1','평균기온(°C)_lag3','평균기온(°C)_lag5','평균기온(°C)_lag7','최저기온(°C)_lag1',\n",
    "            '최저기온(°C)_lag3','최저기온(°C)_lag5','최저기온(°C)_lag7','최고기온(°C)_lag1','최고기온(°C)_lag3',\n",
    "            '최고기온(°C)_lag5','최고기온(°C)_lag7','강수 계속시간(hr)_lag1','강수 계속시간(hr)_lag3','강수 계속시간(hr)_lag5',\n",
    "            '강수 계속시간(hr)_lag7','10분 최다 강수량(mm)_lag1','10분 최다 강수량(mm)_lag3','10분 최다 강수량(mm)_lag5',\n",
    "            '10분 최다 강수량(mm)_lag7','1시간 최다강수량(mm)_lag1','1시간 최다강수량(mm)_lag3','1시간 최다강수량(mm)_lag5',\n",
    "            '1시간 최다강수량(mm)_lag7','일강수량(mm)_lag1','일강수량(mm)_lag3','일강수량(mm)_lag5','일강수량(mm)_lag7',\n",
    "            '최대 순간 풍속(m/s)_lag1','최대 순간 풍속(m/s)_lag3','최대 순간 풍속(m/s)_lag5','최대 순간 풍속(m/s)_lag7',\n",
    "            '최대 풍속(m/s)_lag1','최대 풍속(m/s)_lag3','최대 풍속(m/s)_lag5','최대 풍속(m/s)_lag7','평균 풍속(m/s)_lag1',\n",
    "            '평균 풍속(m/s)_lag3','평균 풍속(m/s)_lag5','평균 풍속(m/s)_lag7','평균 이슬점온도(°C)_lag1',\n",
    "            '평균 이슬점온도(°C)_lag3','평균 이슬점온도(°C)_lag5','평균 이슬점온도(°C)_lag7','최소 상대습도(%)_lag1',\n",
    "            '최소 상대습도(%)_lag3','최소 상대습도(%)_lag5','최소 상대습도(%)_lag7','평균 상대습도(%)_lag1',\n",
    "            '평균 상대습도(%)_lag3','평균 상대습도(%)_lag5','평균 상대습도(%)_lag7','평균 증기압(hPa)_lag1',\n",
    "            '평균 증기압(hPa)_lag3','평균 증기압(hPa)_lag5','평균 증기압(hPa)_lag7','평균 현지기압(hPa)_lag1',\n",
    "            '평균 현지기압(hPa)_lag3','평균 현지기압(hPa)_lag5','평균 현지기압(hPa)_lag7','최고 해면기압(hPa)_lag1',\n",
    "            '최고 해면기압(hPa)_lag3','최고 해면기압(hPa)_lag5','최고 해면기압(hPa)_lag7','최저 해면기압(hPa)_lag1',\n",
    "            '최저 해면기압(hPa)_lag3','최저 해면기압(hPa)_lag5','최저 해면기압(hPa)_lag7','평균 해면기압(hPa)_lag1',\n",
    "            '평균 해면기압(hPa)_lag3','평균 해면기압(hPa)_lag5','평균 해면기압(hPa)_lag7','합계 일조시간(hr)_lag1',\n",
    "            '합계 일조시간(hr)_lag3','합계 일조시간(hr)_lag5','합계 일조시간(hr)_lag7','1시간 최다일사량(MJ/m2)_lag1',\n",
    "            '1시간 최다일사량(MJ/m2)_lag3','1시간 최다일사량(MJ/m2)_lag5','1시간 최다일사량(MJ/m2)_lag7',\n",
    "            '합계 일사량(MJ/m2)_lag1','합계 일사량(MJ/m2)_lag3','합계 일사량(MJ/m2)_lag5','합계 일사량(MJ/m2)_lag7',\n",
    "            '평균 전운량(1/10)_lag1','평균 전운량(1/10)_lag3','평균 전운량(1/10)_lag5','평균 전운량(1/10)_lag7',\n",
    "            '평균 중하층운량(1/10)_lag1','평균 중하층운량(1/10)_lag3','평균 중하층운량(1/10)_lag5','평균 중하층운량(1/10)_lag7',\n",
    "            '합계 대형증발량(mm)_lag1','합계 대형증발량(mm)_lag3','합계 대형증발량(mm)_lag5','합계 대형증발량(mm)_lag7',\n",
    "            '합계 소형증발량(mm)_lag1','합계 소형증발량(mm)_lag3','합계 소형증발량(mm)_lag5','합계 소형증발량(mm)_lag7',\n",
    "            '안개 계속시간(hr)_lag1','안개 계속시간(hr)_lag3','안개 계속시간(hr)_lag5','안개 계속시간(hr)_lag7','태풍_lag1',\n",
    "            '태풍_lag3','태풍_lag5','태풍_lag7','10대_이하_낮_제주_거주인구','20대_낮_제주_거주인구','40_50대_낮_제주_거주인구',\n",
    "            '60대_이상_낮_제주_거주인구','20대_밤_제주_거주인구','30대_밤_제주_거주인구','40_50대_밤_제주_거주인구',\n",
    "            '30대_낮_제주_거주인구','세대1','세대2','세대3','세대4이상','1인가구','1인가구비율']\n",
    "\n",
    "\n",
    "features = list(dict.fromkeys(features))\n",
    "len(features)"
   ]
  },
  {
   "cell_type": "code",
   "execution_count": null,
   "id": "41b84d00",
   "metadata": {
    "ExecuteTime": {
     "end_time": "2021-09-15T05:59:29.879958Z",
     "start_time": "2021-09-15T05:59:29.799129Z"
    }
   },
   "outputs": [],
   "source": [
    "#cate_fe = {'시_구분','dayofweek_name','season','dateName','period','행정동명','읍면동'}\n",
    "\n",
    "cate_fe = {'year','dayofweek_name','season','dateName','행정동명','시_구분','period','읍면동','month'}\n",
    "for col in cate_fe:\n",
    "    local_map = {}\n",
    "    for i, loc in enumerate(df[col].unique()):\n",
    "        local_map[loc] = i\n",
    "    df[col] = df[col].map(local_map)\n",
    "    df[col] = df[col].astype(object)"
   ]
  },
  {
   "cell_type": "code",
   "execution_count": null,
   "id": "0a9c8c0b",
   "metadata": {
    "ExecuteTime": {
     "end_time": "2021-09-15T05:59:30.240118Z",
     "start_time": "2021-09-15T05:59:30.064025Z"
    }
   },
   "outputs": [],
   "source": [
    "from sklearn.preprocessing import StandardScaler\n",
    "from sklearn.linear_model import Lasso\n",
    "\n",
    "x = df[features].fillna(0)\n",
    "\n",
    "def lasso(df, col):\n",
    "    \n",
    "    x = df[features].fillna(0)\n",
    "    y = df[col]\n",
    "\n",
    "    X_features = x.values\n",
    "    X_features_scaled = StandardScaler().fit_transform(X_features)\n",
    "    print(x.shape)\n",
    "\n",
    "    lasso_low = Lasso(alpha=0.5, max_iter=1000).fit(X_features_scaled, y)\n",
    "    print(\"사용한 인자의 수 : {}\".format(np.sum(lasso_low.coef_ != 0)))\n",
    "\n",
    "    result = pd.DataFrame(lasso_low.coef_, index=features).reset_index()\n",
    "    result.columns = ['변수', '계수']\n",
    "    result['계수_절댓값'] = result['계수'].abs()\n",
    "    result.sort_values(by='계수_절댓값', ascending=False)\n",
    "\n",
    "    select_cat = result[result['계수']!= 0].변수.unique()\n",
    "    print(len(select_cat))\n",
    "\n",
    "    cat_features = [\"시_구분\", \"행정동명\",'dayofweek_name','season','dateName','is_weekend','isHoliday',\n",
    "                'year','month','clust_방문거주', 'clust_방문거주2',\n",
    "                'kclus_배출', 'kclus_거주연령', 'kclus_시간유동', 'kclus_방문유동', 'kclus_카드소비', \n",
    "                'kclus_ratio','kclus_세대수', 'kclus_배출량2','kclus_카드',\n",
    "                'period','읍면동']\n",
    "    select_cat = list(set(select_cat).union(set(cat_features)))\n",
    "    #select_cat = list(set(select_cat).union(set(cat_features)).union(set(cat13)).union(set(cat50)).union(set(cat150)))\n",
    "    select_cat2 = pd.DataFrame({\"변수\":select_cat})\n",
    "    select_cat2.to_csv(f'{col}_selected.csv', index=False)\n",
    "    print(len(select_cat))\n",
    "    \n",
    "    return select_cat"
   ]
  },
  {
   "cell_type": "markdown",
   "id": "f0ef4921",
   "metadata": {},
   "source": [
    "## CatBoost 모델링 (shap values 및 시각화)"
   ]
  },
  {
   "cell_type": "code",
   "execution_count": null,
   "id": "eff82935",
   "metadata": {
    "ExecuteTime": {
     "end_time": "2021-09-15T05:59:32.008842Z",
     "start_time": "2021-09-15T05:59:32.004504Z"
    }
   },
   "outputs": [],
   "source": [
    "#random seed 지정 \n",
    "seed = 1997\n",
    "\n",
    "# Set up folds\n",
    "K = 10\n",
    "kf = KFold(n_splits = K, random_state = seed , shuffle = True)\n",
    "OPTIMIZE_ROUNDS = False "
   ]
  },
  {
   "cell_type": "code",
   "execution_count": null,
   "id": "d1d2d4eb",
   "metadata": {
    "ExecuteTime": {
     "end_time": "2021-09-15T05:59:32.298703Z",
     "start_time": "2021-09-15T05:59:32.273181Z"
    }
   },
   "outputs": [],
   "source": [
    "cat_features = [\"시_구분\", \"행정동명\",'dayofweek_name','season','dateName','is_weekend','isHoliday',\n",
    "                'year','month','clust_방문거주', 'clust_방문거주2',\n",
    "                'kclus_배출', 'kclus_거주연령', 'kclus_시간유동', 'kclus_방문유동', 'kclus_카드소비', \n",
    "                'kclus_ratio','kclus_세대수', 'kclus_배출량2','kclus_카드',\n",
    "                'period','읍면동']\n",
    "\n",
    "# MAE 평가지표 함수 만들기 \n",
    "def rmse(y, y_pred):\n",
    "    return sqrt(mean_squared_error(y, y_pred))\n",
    "\n",
    "def cats(train, test, col, select_cat):\n",
    "    \n",
    "    y = train[col]\n",
    "\n",
    "    ### cat modeling 위한 data지정 \n",
    "    X_cat = train[select_cat]\n",
    "    X_test = test[select_cat]\n",
    "\n",
    "    #cat_features : LabelEncoder\n",
    "    for data in [X_cat, X_test]:\n",
    "        data[cat_features] = data[cat_features].astype(str)\n",
    "\n",
    "    \n",
    "    #catboost에서는 cat_feature를 파라미터로 지정하는데 이때 범주형 변수가 실수형이라면 돌아가지 않음. 에러 방지를 위해서 문자형으로 바꿔주기 \n",
    " \n",
    "\n",
    "    y_valid_pred = 0*y\n",
    "    y_test_pred = 0\n",
    "    X_cat.head()\n",
    "    \n",
    "    # Set up \n",
    "    cat_model = CatBoostRegressor(\n",
    "        cat_features=cat_features,\n",
    "        verbose = False, eval_metric=\"RMSE\"\n",
    "    )\n",
    "\n",
    "    # Run CV\n",
    "    for i, (train_index, test_index) in enumerate(kf.split(X_cat)):\n",
    "\n",
    "        # Create data for this fold\n",
    "        y_train, y_valid = y.iloc[train_index], y.iloc[test_index]\n",
    "        X_train, X_valid = X_cat.iloc[train_index,:], X_cat.iloc[test_index,:]\n",
    "        print( \"\\nFold = \", i)\n",
    "\n",
    "        # Run model for this fold\n",
    "        if OPTIMIZE_ROUNDS:\n",
    "            fit_model = cat_model.fit( X_train, y_train, \n",
    "                                   eval_set=[(X_valid, y_valid)],\n",
    "                                   use_best_model=True\n",
    "                                 )\n",
    "            print( \"  N trees = \", cat_model.tree_count_ )\n",
    "        else:\n",
    "            fit_model = cat_model.fit( X_train, y_train)\n",
    "\n",
    "        # Generate validation predictions for this fold\n",
    "        pred = fit_model.predict(X_valid)\n",
    "        print( \"  RMSE = \",  sqrt(mean_squared_error(y_valid, pred)))\n",
    "        \n",
    "        y_valid_pred.iloc[test_index] = pred\n",
    "\n",
    "        # Accumulate test set predictions\n",
    "        y_test_pred += fit_model.predict(X_test)\n",
    "\n",
    "    y_test_pred /= K  # Average test set predictions\n",
    "\n",
    "    print( \"\\nRMSE for full training set:\" , sqrt(mean_squared_error(y_valid, pred)))  \n",
    "    print(f'{col} mean: {df_train[col].mean()}')\n",
    "    #print(\"\\nRMSE for full test set:\" , sqrt(mean_squared_error(test[col],y_test_pred)))\n",
    "    #print(round(sqrt(mean_squared_error(test[col],y_test_pred)) / df_train[col].mean() * 100, 3), '%')\n",
    "    \n",
    "     \n",
    "    explainer = shap.TreeExplainer(fit_model)\n",
    "    shap_values = explainer.shap_values(X_cat)\n",
    "    # visualize the first prediction's explanation\n",
    "    fig1 = plt.figure(figsize=(30,30))\n",
    "    shap.summary_plot(shap_values, X_cat, show=False)\n",
    "    plt.savefig(f'{col}_shap1.png',bbox_inches = 'tight')\n",
    "    fig2 = plt.figure(figsize=(30,50))\n",
    "    shap.summary_plot(shap_values, X_cat, plot_type='bar', show=False)\n",
    "    plt.savefig(f'{col}_shap2.png',bbox_inches = 'tight')\n",
    "      \n",
    "    diag = test.copy()\n",
    "    diag['배출량'] = y_test_pred\n",
    "    diag.to_csv(f'{col}_submission.csv', index=False)\n",
    "    joblib.dump(fit_model, f'{col}_submission.pkl')\n",
    "    \n",
    "    return diag, fit_model"
   ]
  },
  {
   "cell_type": "code",
   "execution_count": null,
   "id": "59b40362",
   "metadata": {
    "ExecuteTime": {
     "end_time": "2021-09-15T05:59:33.660625Z",
     "start_time": "2021-09-15T05:59:33.632558Z"
    }
   },
   "outputs": [],
   "source": [
    "def graphs(df_train, df_pred, col, select_cat, fit_model):\n",
    "    \n",
    "    #feature importance graph\n",
    "    cat_imp = pd.DataFrame()\n",
    "    cat_imp['feature'] = df_pred[select_cat].columns\n",
    "    cat_imp['imp'] = fit_model.feature_importances_\n",
    "    cat_imp= cat_imp.sort_values(by=\"imp\",ascending=False)\n",
    "\n",
    "    fig = plt.figure(figsize=(15,50))\n",
    "    plt.xticks(rotation = 45 )\n",
    "\n",
    "    fig.patch.set_facecolor('xkcd:white')\n",
    "    sns.barplot(x=\"imp\", y=\"feature\", data=cat_imp);\n",
    "    fig.savefig(f'{col}_imp.png')\n",
    "    \n",
    "    \n",
    "    # 예측값 그래프\n",
    "    diag = df_train.copy()\n",
    "    diag[\"기준일자\"] = pd.to_datetime(diag['기준일자'], format='%Y-%m-%d')\n",
    "    df_pred[\"기준일자\"] = pd.to_datetime(df_pred['기준일자'], format='%Y-%m-%d')\n",
    "    diag = diag[['기준일자','행정동명', f'{col}']]\n",
    "    df_pred = df_pred[['기준일자','행정동명', f'{col}']]\n",
    "    df_new = pd.concat([diag, df_pred], axis=0)\n",
    "    \n",
    "    data = df_new.copy()\n",
    "    f, ax = plt.subplots(nrows=len(data['행정동명'].unique()), ncols=1, figsize=(30, 200))\n",
    "    \n",
    "    for i, hjd in enumerate(data['행정동명'].unique()):\n",
    "        temp1 = data[(data['행정동명']==hjd) & ((data.기준일자>='2018-07-01')&(data.기준일자<'2018-09-01'))]\n",
    "        temp2 = data[(data['행정동명']==hjd) & ((data.기준일자>='2019-07-01')&(data.기준일자<'2019-09-01'))]\n",
    "        temp3 = data[(data['행정동명']==hjd) & ((data.기준일자>='2020-07-01')&(data.기준일자<'2020-09-01'))]  \n",
    "        temp4 = data[(data['행정동명']==hjd) & ((data.기준일자>='2021-07-01')&(data.기준일자<'2021-09-01'))]\n",
    "        temp5 = data[(data['행정동명']==hjd)]\n",
    "        temp5 = temp5[(temp5.isin(temp1)==False) & (temp5.isin(temp2)==False) & (temp5.isin(temp3)==False) & (temp5.isin(temp4)==False)] \n",
    "        \n",
    "        sns.lineplot(x=temp5['기준일자'], y=temp5[f'{col}'], ax=ax[i], ci=None, label='True', lw=2, color='#2c7fb8')\n",
    "        sns.lineplot(x=temp1['기준일자'], y=temp1[f'{col}'], ax=ax[i], ci=None, label='True', lw=2, color='#de2d26')\n",
    "        sns.lineplot(x=temp2['기준일자'], y=temp2[f'{col}'], ax=ax[i], ci=None, label='True', lw=2, color='#de2d26')\n",
    "        sns.lineplot(x=temp3['기준일자'], y=temp3[f'{col}'], ax=ax[i], ci=None, label='True', lw=2, color='#de2d26')\n",
    "        sns.lineplot(x=temp4['기준일자'], y=temp4[f'{col}'], ax=ax[i], ci=None, label='Prediction', lw=2, color='#de2d26')\n",
    "\n",
    "\n",
    "        f.patch.set_facecolor('xkcd:white')\n",
    "\n",
    "        ax[i].set_title(f'{hjd}: 2018년 7-8월', fontsize=15)\n",
    "        ax[i].set_title(f'{hjd}: 2019년 7-8월', fontsize=15)\n",
    "        ax[i].set_title(f'{hjd}: 2020년 7-8월', fontsize=15)\n",
    "        ax[i].set_title(f'{hjd}: 2021년 7-8월', fontsize=15)\n",
    "\n",
    "\n",
    "    plt.tight_layout()\n",
    "    plt.show()\n",
    "    f.savefig(f'{col}_pred.png')\n",
    "    \n",
    "    ## 행정동별 그래프\n",
    "    data = df_new.copy()\n",
    "    fg, ax = plt.subplots(nrows=len(data['행정동명'].unique()), ncols=1, figsize=(10, 200))\n",
    "\n",
    "    for i, hjd in enumerate(data['행정동명'].unique()):\n",
    "        temp1 = data[(data['행정동명']==hjd) & (data.기준일자 <'2021-07-01')]\n",
    "        temp2 = data[(data['행정동명']==hjd) & (data.기준일자>='2021-07-01')] \n",
    "        sns.lineplot(x=temp1['기준일자'], y=temp1[f'{col}'], ax=ax[i], ci=None, label='True',color='#2c7fb8')\n",
    "        sns.lineplot(x=temp2['기준일자'], y=temp2[f'{col}'], ax=ax[i], ci=None, label='Prediction', color='#de2d26')\n",
    "\n",
    "        ax[i].set_title(f'{hjd}', fontsize=15)\n",
    "\n",
    "    plt.tight_layout()\n",
    "    plt.show()\n",
    "    fg.savefig(f'{col}_hjd.png')\n",
    "    "
   ]
  },
  {
   "cell_type": "code",
   "execution_count": null,
   "id": "f849df78",
   "metadata": {
    "ExecuteTime": {
     "end_time": "2021-09-15T03:39:50.424248Z",
     "start_time": "2021-09-15T03:28:16.275492Z"
    },
    "scrolled": true
   },
   "outputs": [],
   "source": [
    "var_set = ['배출량']\n",
    "for cols in var_set:\n",
    "    print(cols)\n",
    "    select_cat = lasso(df,cols)\n",
    "    df_pred, fit_model = cats(df_train, df_test, cols, select_cat)\n",
    "    graphs(df_train, df_pred, cols, select_cat, fit_model)"
   ]
  },
  {
   "cell_type": "markdown",
   "id": "b6dabb39",
   "metadata": {},
   "source": [
    "## Model 1(CatBoost) - submission 파일 생성"
   ]
  },
  {
   "cell_type": "code",
   "execution_count": null,
   "id": "6761f299",
   "metadata": {
    "ExecuteTime": {
     "end_time": "2021-09-15T05:38:21.212326Z",
     "start_time": "2021-09-15T05:38:21.212316Z"
    }
   },
   "outputs": [],
   "source": [
    "#cluster\n",
    "cluster_cat = ['남원읍', '노형동', '대륜동', '대정읍', '대천동', '봉개동', '송산동', '아라동',\n",
    "               '안덕면', '애월읍', '이도1동', '이도2동', '효돈동', '구좌읍', '조천읍', '한경면', '한림읍']\n",
    "df_pred_cat = df_pred[df_pred['행정동명'].isin(cluster_cat)==True]"
   ]
  },
  {
   "cell_type": "code",
   "execution_count": null,
   "id": "8bd17d5b",
   "metadata": {
    "ExecuteTime": {
     "end_time": "2021-09-15T05:38:21.212870Z",
     "start_time": "2021-09-15T05:38:21.212863Z"
    }
   },
   "outputs": [],
   "source": [
    "sub = df_pred_cat.groupby(['행정동명','month']).sum().reset_index()[['행정동명','month','배출량']]"
   ]
  },
  {
   "cell_type": "code",
   "execution_count": null,
   "id": "e8df1d03",
   "metadata": {
    "ExecuteTime": {
     "end_time": "2021-09-15T05:38:21.213358Z",
     "start_time": "2021-09-15T05:38:21.213350Z"
    }
   },
   "outputs": [],
   "source": [
    "sub = sub.pivot(index=['행정동명'], columns='month', values='배출량').reset_index().rename(\n",
    "    columns = {7 : \"7월 배출량(g)\", 8 : \"8월 배출량(g)\"})"
   ]
  },
  {
   "cell_type": "code",
   "execution_count": null,
   "id": "8d40b212",
   "metadata": {
    "ExecuteTime": {
     "end_time": "2021-09-15T05:38:21.213922Z",
     "start_time": "2021-09-15T05:38:21.213914Z"
    }
   },
   "outputs": [],
   "source": [
    "sub.head()"
   ]
  },
  {
   "cell_type": "code",
   "execution_count": null,
   "id": "06727250",
   "metadata": {
    "ExecuteTime": {
     "end_time": "2021-09-15T05:38:21.214522Z",
     "start_time": "2021-09-15T05:38:21.214514Z"
    }
   },
   "outputs": [],
   "source": [
    "sub.to_csv('submission_cat.csv', index=False, encoding='cp949')"
   ]
  },
  {
   "cell_type": "code",
   "execution_count": null,
   "id": "f497e1e0",
   "metadata": {
    "ExecuteTime": {
     "end_time": "2021-09-14T14:58:55.334948Z",
     "start_time": "2021-09-14T14:58:55.324885Z"
    },
    "scrolled": true
   },
   "outputs": [],
   "source": [
    "submission.isna().sum()"
   ]
  },
  {
   "cell_type": "markdown",
   "id": "315a2371",
   "metadata": {},
   "source": [
    "# Model 2. CatBoost + RandomForest"
   ]
  },
  {
   "cell_type": "markdown",
   "id": "59b9610e",
   "metadata": {},
   "source": [
    "## data 불러오기"
   ]
  },
  {
   "cell_type": "code",
   "execution_count": null,
   "id": "e9065b72",
   "metadata": {
    "ExecuteTime": {
     "end_time": "2021-09-15T06:23:33.465492Z",
     "start_time": "2021-09-15T06:23:30.113444Z"
    }
   },
   "outputs": [],
   "source": [
    "#df_train\n",
    "df = pd.read_csv('df_ver0914.csv', encoding='cp949')\n",
    "df[\"기준일자\"] = pd.to_datetime(df['기준일자'], format='%Y-%m-%d')\n",
    "df['year_month'] = pd.to_datetime(df['year_month'])\n",
    "\n",
    "\n",
    "#df_test\n",
    "df_test = pd.read_csv('df_test_pred.csv', encoding='cp949')\n",
    "df_test[\"기준일자\"] = pd.to_datetime(df_test['기준일자'], format='%Y-%m-%d')"
   ]
  },
  {
   "cell_type": "code",
   "execution_count": null,
   "id": "a3f9b736",
   "metadata": {
    "ExecuteTime": {
     "end_time": "2021-09-15T06:23:33.568058Z",
     "start_time": "2021-09-15T06:23:33.466515Z"
    }
   },
   "outputs": [],
   "source": [
    "df = df[df['배출량'].notna()]"
   ]
  },
  {
   "cell_type": "code",
   "execution_count": null,
   "id": "2f31267c",
   "metadata": {
    "ExecuteTime": {
     "end_time": "2021-09-15T06:23:33.964376Z",
     "start_time": "2021-09-15T06:23:33.569035Z"
    }
   },
   "outputs": [],
   "source": [
    "df['dateName'] = df['dateName'].fillna('일반')\n",
    "df_test['dateName'] = df_test['dateName'].fillna('일반')\n",
    "df_test['화물량'] = df_test['화물량'].fillna(9104.84)\n",
    "df = df.fillna(0)\n",
    "df_test = df_test.fillna(0)"
   ]
  },
  {
   "cell_type": "code",
   "execution_count": null,
   "id": "15e4c3c4",
   "metadata": {
    "ExecuteTime": {
     "end_time": "2021-09-15T06:23:34.626401Z",
     "start_time": "2021-09-15T06:23:34.534370Z"
    }
   },
   "outputs": [],
   "source": [
    "drop_list = ['행정동_코드', '배출건수', '총_지불금액', '외식_결제건수', '외식_결제금액', \n",
    "       '간식_결제건수', '농축수산물_결제건수', '마트/슈퍼마켓_결제건수', '배달_결제건수', '부페_결제건수',\n",
    "       '식품_결제건수', '아시아음식_결제건수', '양식_결제건수', '주점및주류판매_결제건수', '패스트푸드_결제건수',\n",
    "       '한식_결제건수', '간식_결제금액', '농축수산물_결제금액', '마트/슈퍼마켓_결제금액', '배달_결제금액',\n",
    "       '부페_결제금액', '식품_결제금액', '아시아음식_결제금액', '양식_결제금액', '주점및주류판매_결제금액',\n",
    "       '패스트푸드_결제금액', '한식_결제금액', '외식_결제건수', '외식_결제금액', '1회당_외식_결제금액',\n",
    "       '1회당_마트/슈퍼마켓_결제금액', '1회당_배달_결제금액', '1회당_농축수산물_결제금액']\n",
    "df = df.drop(drop_list, axis=1)"
   ]
  },
  {
   "cell_type": "code",
   "execution_count": null,
   "id": "433c4be1",
   "metadata": {
    "ExecuteTime": {
     "end_time": "2021-09-15T06:23:35.144808Z",
     "start_time": "2021-09-15T06:23:35.015028Z"
    }
   },
   "outputs": [],
   "source": [
    "df_train = df.copy()\n",
    "df1 = df.copy()"
   ]
  },
  {
   "cell_type": "markdown",
   "id": "45ef09ad",
   "metadata": {},
   "source": [
    "## LASSO 변수선택"
   ]
  },
  {
   "cell_type": "markdown",
   "id": "aeeede8c",
   "metadata": {},
   "source": [
    "### 라벨 인코딩"
   ]
  },
  {
   "cell_type": "code",
   "execution_count": null,
   "id": "d4ddfa23",
   "metadata": {
    "ExecuteTime": {
     "end_time": "2021-09-15T06:23:35.700627Z",
     "start_time": "2021-09-15T06:23:35.609083Z"
    }
   },
   "outputs": [],
   "source": [
    "#cate_fe = {'시_구분','dayofweek_name','season','dateName','period','행정동명','읍면동'}\n",
    "cate_fe = {'year','dayofweek_name','season','dateName','행정동명','시_구분','period','읍면동','month'}\n",
    "for col in cate_fe:\n",
    "    local_map = {}\n",
    "    for i, loc in enumerate(df1[col].unique()):\n",
    "        local_map[loc] = i\n",
    "    df1[col] = df1[col].map(local_map)\n",
    "    df1[col] = df1[col].astype('category').cat.codes"
   ]
  },
  {
   "cell_type": "code",
   "execution_count": 2,
   "id": "1c457ed7",
   "metadata": {
    "ExecuteTime": {
     "end_time": "2021-09-15T06:23:36.067263Z",
     "start_time": "2021-09-15T06:23:36.059483Z"
    }
   },
   "outputs": [
    {
     "data": {
      "text/plain": [
       "22"
      ]
     },
     "execution_count": 2,
     "metadata": {},
     "output_type": "execute_result"
    }
   ],
   "source": [
    "cat_features = [\"시_구분\", \"행정동명\",'dayofweek_name','season','dateName','is_weekend','isHoliday',\n",
    "                'year','month','clust_방문거주', 'clust_방문거주2',\n",
    "                'kclus_배출', 'kclus_거주연령', 'kclus_시간유동', 'kclus_방문유동', 'kclus_카드소비', \n",
    "                'kclus_ratio','kclus_세대수', 'kclus_배출량2','kclus_카드',\n",
    "                'period','읍면동']\n",
    "\n",
    "len(cat_features)"
   ]
  },
  {
   "cell_type": "markdown",
   "id": "b62e2040",
   "metadata": {},
   "source": [
    "## 모델링 시작"
   ]
  },
  {
   "cell_type": "code",
   "execution_count": 1,
   "id": "293f5fb9",
   "metadata": {
    "ExecuteTime": {
     "end_time": "2021-09-15T06:23:36.487132Z",
     "start_time": "2021-09-15T06:23:36.459592Z"
    }
   },
   "outputs": [
    {
     "data": {
      "text/plain": [
       "321"
      ]
     },
     "execution_count": 1,
     "metadata": {},
     "output_type": "execute_result"
    }
   ],
   "source": [
    "features = ['kclus_세대수','kclus_month_코로나','면적','density','읍면동','평균 해면기압(hPa)',\n",
    "            '30대_항공','30대_맛집','20대_맛집','제주_확진자수','30대_버스','신선식품지수','day','60대_숙박',\n",
    "            '평균 상대습도(%)','50대_제주코로나','50대_버스','60대_맛집','period','40대_날씨','합계 일사량(MJ/m2)',\n",
    "            '세대당_농축수산물_결제금액','여성_거주인구','30대_날씨','제주항공주가','전국_격리중_환자수','고등학교등교여부',\n",
    "            '초등학교등교여부','태풍','제주_사망자수','평균기온(°C)','제주_해외유입수','is_weekend','1시간 최다일사량(MJ/m2)',\n",
    "            '전체_렌트카','최대 순간 풍속(m/s)','20대_숙박','20대_렌트카','50대_날씨','40대_숙박','세대수','식료품소매',\n",
    "            'dayofweek_name','dateName','60대_렌트카','20대_코로나','평균 풍속(m/s)','최고 해면기압(hPa)','전국_해외유입수',\n",
    "            '전체_코로나','60대_제주코로나','중학교개수','40대_맛집','남성_거주인구','isHoliday','행정동명','50대_여성_코로나',\n",
    "            '30대_렌트카','clust_방문거주','제주_격리중_환자수','평균 전운량(1/10)','40대_여성_코로나','제주_전일대비_증감수',\n",
    "            '20대_버스','전체_제주코로나','60대_날씨','전체_숙박','kclus_ratio','최저기온(°C)','합계 소형증발량(mm)',\n",
    "            'kclus_배출','평균 현지기압(hPa)','60대_남성_코로나','50대_맛집','캠프/별장/펜션','세대당_배달_결제건수',\n",
    "            '합계 대형증발량(mm)','dayofyear','최고기온(°C)','최저 해면기압(hPa)','초등학교개수','전체_항공',\n",
    "            '평균 중하층운량(1/10)','time_idx','60대_버스','50대_항공','전체_버스','생활물가지수','강수 계속시간(hr)',\n",
    "            'kclus_결제건수','유스호스텔','대기업본사','최소 상대습도(%)','kclus_카드소비','전국_확진자수','20대_항공',\n",
    "            'year','20대_제주코로나','60대_여성_코로나','60대_항공','전국_전일대비_증감수','상가','평균 이슬점온도(°C)',\n",
    "            '학문/교육','month_cos','50대_숙박','숙박','거점지역_개수','민박/하숙','고등학교개수','30대_제주코로나',\n",
    "            '안개 계속시간(hr)','40대_제주코로나','weeknumber','제주_격리해제수','kclus_배출량2','스타벅스','50대_남성_코로나',\n",
    "            '40대_항공','30대_숙박','kclus_시간유동','한국인세대수','하나투어주가','일강수량(mm)','캠핑장',\n",
    "            '세대당_마트/슈퍼마켓_결제금액','50대_렌트카','10분 최다 강수량(mm)','month','1시간 최다강수량(mm)',\n",
    "            '최대 풍속(m/s)','20대_날씨','합계 일조시간(hr)','40대_남성_코로나','전체_맛집','중학교등교여부',\n",
    "            'season','clust_방문거주2','kclus_카드','dayofweek_num','시_구분','호텔/콘도','30대_코로나',\n",
    "            '모텔/여관/여인숙','음식','전국_사망자수','전국_격리해제수','kclus_방문유동','kclus_거주연령','전체_날씨',\n",
    "            '세대당_외식_결제금액','총거주인구','롯데관광주가','화물량','40대_렌트카','40대_버스','학교개수','평균 증기압(hPa)',\n",
    "            '카페','전체_코로나_lag1','전체_코로나_lag3','전체_코로나_lag5','전체_코로나_lag7','전체_코로나_lag14',\n",
    "            '전체_숙박_lag1','전체_숙박_lag3','전체_숙박_lag5','전체_숙박_lag7','전체_숙박_lag14','전체_버스_lag1',\n",
    "            '전체_버스_lag3','전체_버스_lag5','전체_버스_lag7','전체_버스_lag14','전체_맛집_lag1','전체_맛집_lag3',\n",
    "            '전체_맛집_lag5','전체_맛집_lag7','전체_맛집_lag14','전체_렌트카_lag1','전체_렌트카_lag3','전체_렌트카_lag5',\n",
    "            '전체_렌트카_lag7','전체_렌트카_lag14','전체_날씨_lag1','전체_날씨_lag3','전체_날씨_lag5','전체_날씨_lag7',\n",
    "            '전체_날씨_lag14','전체_항공_lag1','전체_항공_lag3','전체_항공_lag5','전체_항공_lag7','전체_항공_lag14',\n",
    "            '전체_제주코로나_lag1','전체_제주코로나_lag3','전체_제주코로나_lag5','전체_제주코로나_lag7','전체_제주코로나_lag14',\n",
    "            '평균기온(°C)_lag1','평균기온(°C)_lag3','평균기온(°C)_lag5','평균기온(°C)_lag7','최저기온(°C)_lag1',\n",
    "            '최저기온(°C)_lag3','최저기온(°C)_lag5','최저기온(°C)_lag7','최고기온(°C)_lag1','최고기온(°C)_lag3',\n",
    "            '최고기온(°C)_lag5','최고기온(°C)_lag7','강수 계속시간(hr)_lag1','강수 계속시간(hr)_lag3','강수 계속시간(hr)_lag5',\n",
    "            '강수 계속시간(hr)_lag7','10분 최다 강수량(mm)_lag1','10분 최다 강수량(mm)_lag3','10분 최다 강수량(mm)_lag5',\n",
    "            '10분 최다 강수량(mm)_lag7','1시간 최다강수량(mm)_lag1','1시간 최다강수량(mm)_lag3','1시간 최다강수량(mm)_lag5',\n",
    "            '1시간 최다강수량(mm)_lag7','일강수량(mm)_lag1','일강수량(mm)_lag3','일강수량(mm)_lag5','일강수량(mm)_lag7',\n",
    "            '최대 순간 풍속(m/s)_lag1','최대 순간 풍속(m/s)_lag3','최대 순간 풍속(m/s)_lag5','최대 순간 풍속(m/s)_lag7',\n",
    "            '최대 풍속(m/s)_lag1','최대 풍속(m/s)_lag3','최대 풍속(m/s)_lag5','최대 풍속(m/s)_lag7','평균 풍속(m/s)_lag1',\n",
    "            '평균 풍속(m/s)_lag3','평균 풍속(m/s)_lag5','평균 풍속(m/s)_lag7','평균 이슬점온도(°C)_lag1',\n",
    "            '평균 이슬점온도(°C)_lag3','평균 이슬점온도(°C)_lag5','평균 이슬점온도(°C)_lag7','최소 상대습도(%)_lag1',\n",
    "            '최소 상대습도(%)_lag3','최소 상대습도(%)_lag5','최소 상대습도(%)_lag7','평균 상대습도(%)_lag1',\n",
    "            '평균 상대습도(%)_lag3','평균 상대습도(%)_lag5','평균 상대습도(%)_lag7','평균 증기압(hPa)_lag1',\n",
    "            '평균 증기압(hPa)_lag3','평균 증기압(hPa)_lag5','평균 증기압(hPa)_lag7','평균 현지기압(hPa)_lag1',\n",
    "            '평균 현지기압(hPa)_lag3','평균 현지기압(hPa)_lag5','평균 현지기압(hPa)_lag7','최고 해면기압(hPa)_lag1',\n",
    "            '최고 해면기압(hPa)_lag3','최고 해면기압(hPa)_lag5','최고 해면기압(hPa)_lag7','최저 해면기압(hPa)_lag1',\n",
    "            '최저 해면기압(hPa)_lag3','최저 해면기압(hPa)_lag5','최저 해면기압(hPa)_lag7','평균 해면기압(hPa)_lag1',\n",
    "            '평균 해면기압(hPa)_lag3','평균 해면기압(hPa)_lag5','평균 해면기압(hPa)_lag7','합계 일조시간(hr)_lag1',\n",
    "            '합계 일조시간(hr)_lag3','합계 일조시간(hr)_lag5','합계 일조시간(hr)_lag7','1시간 최다일사량(MJ/m2)_lag1',\n",
    "            '1시간 최다일사량(MJ/m2)_lag3','1시간 최다일사량(MJ/m2)_lag5','1시간 최다일사량(MJ/m2)_lag7',\n",
    "            '합계 일사량(MJ/m2)_lag1','합계 일사량(MJ/m2)_lag3','합계 일사량(MJ/m2)_lag5','합계 일사량(MJ/m2)_lag7',\n",
    "            '평균 전운량(1/10)_lag1','평균 전운량(1/10)_lag3','평균 전운량(1/10)_lag5','평균 전운량(1/10)_lag7',\n",
    "            '평균 중하층운량(1/10)_lag1','평균 중하층운량(1/10)_lag3','평균 중하층운량(1/10)_lag5','평균 중하층운량(1/10)_lag7',\n",
    "            '합계 대형증발량(mm)_lag1','합계 대형증발량(mm)_lag3','합계 대형증발량(mm)_lag5','합계 대형증발량(mm)_lag7',\n",
    "            '합계 소형증발량(mm)_lag1','합계 소형증발량(mm)_lag3','합계 소형증발량(mm)_lag5','합계 소형증발량(mm)_lag7',\n",
    "            '안개 계속시간(hr)_lag1','안개 계속시간(hr)_lag3','안개 계속시간(hr)_lag5','안개 계속시간(hr)_lag7','태풍_lag1',\n",
    "            '태풍_lag3','태풍_lag5','태풍_lag7','10대_이하_낮_제주_거주인구','20대_낮_제주_거주인구','40_50대_낮_제주_거주인구',\n",
    "            '60대_이상_낮_제주_거주인구','20대_밤_제주_거주인구','30대_밤_제주_거주인구','40_50대_밤_제주_거주인구',\n",
    "            '30대_낮_제주_거주인구','세대1','세대2','세대3','세대4이상','1인가구','1인가구비율']\n",
    "\n",
    "\n",
    "features = list(dict.fromkeys(features))\n",
    "len(features)"
   ]
  },
  {
   "cell_type": "code",
   "execution_count": null,
   "id": "5c9ffe30",
   "metadata": {
    "ExecuteTime": {
     "end_time": "2021-09-15T06:24:01.903327Z",
     "start_time": "2021-09-15T06:23:36.945908Z"
    },
    "scrolled": true
   },
   "outputs": [],
   "source": [
    "target = '배출량'\n",
    "features = [col for col in features if col not in\\\n",
    "            [target,'기준일자','year_month','행정동_코드','배출건수','총_지불금액','1인당_배출량']]\n",
    "\n",
    "selected_features = lasso(df1,target)\n",
    "\n",
    "#fit_model, y_test_pred = catboost(train, target, selected_features)"
   ]
  },
  {
   "cell_type": "markdown",
   "id": "15b0da24",
   "metadata": {},
   "source": [
    "### Correlation 확인"
   ]
  },
  {
   "cell_type": "code",
   "execution_count": null,
   "id": "8afe9d5e",
   "metadata": {
    "ExecuteTime": {
     "end_time": "2021-09-15T06:24:26.812193Z",
     "start_time": "2021-09-15T06:24:01.904507Z"
    }
   },
   "outputs": [],
   "source": [
    "pd.DataFrame(df1.corr()['배출량'].abs().sort_values(ascending=False))"
   ]
  },
  {
   "cell_type": "code",
   "execution_count": null,
   "id": "f29ace6f",
   "metadata": {
    "ExecuteTime": {
     "end_time": "2021-09-15T06:24:26.815636Z",
     "start_time": "2021-09-15T06:24:26.815628Z"
    }
   },
   "outputs": [],
   "source": [
    "corr_df = pd.DataFrame(df1.corr()['배출량'].abs().sort_values(ascending=False))\n",
    "#corr_df.to_csv('corr.csv', encoding=\"utf-8-sig\")\n",
    "corr_df.index[1:50]"
   ]
  },
  {
   "cell_type": "markdown",
   "id": "a7dbd462",
   "metadata": {},
   "source": [
    "## 배출량 Modeling"
   ]
  },
  {
   "cell_type": "code",
   "execution_count": null,
   "id": "0b8e4568",
   "metadata": {
    "ExecuteTime": {
     "end_time": "2021-09-15T06:24:44.525425Z",
     "start_time": "2021-09-15T06:24:30.105020Z"
    },
    "scrolled": true
   },
   "outputs": [],
   "source": [
    "df_train = df1[selected_features] # 설명변수\n",
    "df_train['y'] = df1['배출량'] # 타겟변수\n",
    "\n",
    "df_valid = df_test[selected_features]\n",
    "## setup의 다양한 옵션 \n",
    "## https://github.com/pycaret/pycaret/blob/master/pycaret/classification.py\n",
    "\n",
    "from pycaret.regression import *\n",
    "setup = setup(df_train, target = 'y',\n",
    "              categorical_features = [\"시_구분\", \"행정동명\",'dayofweek_name','season','dateName','is_weekend',\n",
    "                                      'isHoliday','year','month','clust_방문거주', 'clust_방문거주2',\n",
    "                                      'kclus_배출', 'kclus_거주연령', 'kclus_시간유동', 'kclus_방문유동', 'kclus_카드소비',\n",
    "                                      '태풍','period','읍면동'],\n",
    "              session_id = 1997\n",
    "             )"
   ]
  },
  {
   "cell_type": "code",
   "execution_count": null,
   "id": "47fe778f",
   "metadata": {
    "ExecuteTime": {
     "end_time": "2021-09-15T06:27:25.505467Z",
     "start_time": "2021-09-15T06:24:47.996815Z"
    }
   },
   "outputs": [],
   "source": [
    "best = compare_models(sort=\"RMSE\", exclude=['omp','par','xgboost','lasso','lr','lightgbm','gbr','et','huber',\n",
    "                                            'en','ridge','llar','br','knn','dt','ada'])"
   ]
  },
  {
   "cell_type": "code",
   "execution_count": null,
   "id": "2df22268",
   "metadata": {
    "ExecuteTime": {
     "end_time": "2021-09-15T06:27:25.766080Z",
     "start_time": "2021-09-15T06:27:25.508518Z"
    }
   },
   "outputs": [],
   "source": [
    "cat= create_model('catboost')"
   ]
  },
  {
   "cell_type": "code",
   "execution_count": null,
   "id": "1a6256a0",
   "metadata": {
    "ExecuteTime": {
     "end_time": "2021-09-15T06:27:25.768862Z",
     "start_time": "2021-09-15T06:27:25.768854Z"
    }
   },
   "outputs": [],
   "source": [
    "rf = create_model('rf')"
   ]
  },
  {
   "cell_type": "code",
   "execution_count": null,
   "id": "13299e54",
   "metadata": {
    "ExecuteTime": {
     "end_time": "2021-09-15T06:27:25.770106Z",
     "start_time": "2021-09-15T06:27:25.770098Z"
    }
   },
   "outputs": [],
   "source": [
    "blend1 = blend_models([cat,rf],optimize='RMSE',verbose=True)"
   ]
  },
  {
   "cell_type": "code",
   "execution_count": null,
   "id": "725ec517",
   "metadata": {
    "ExecuteTime": {
     "end_time": "2021-09-15T06:27:25.771042Z",
     "start_time": "2021-09-15T06:27:25.771034Z"
    }
   },
   "outputs": [],
   "source": [
    "final_model = finalize_model(blend1)"
   ]
  },
  {
   "cell_type": "code",
   "execution_count": null,
   "id": "aa90dd78",
   "metadata": {
    "ExecuteTime": {
     "end_time": "2021-09-15T06:27:25.771678Z",
     "start_time": "2021-09-15T06:27:25.771671Z"
    }
   },
   "outputs": [],
   "source": [
    "y_valid1 = predict_model(final_model, data = df_valid)"
   ]
  },
  {
   "cell_type": "code",
   "execution_count": null,
   "id": "c28d1667",
   "metadata": {
    "ExecuteTime": {
     "end_time": "2021-09-15T06:27:25.772535Z",
     "start_time": "2021-09-15T06:27:25.772528Z"
    },
    "scrolled": false
   },
   "outputs": [],
   "source": [
    "# 예측값 그래프\n",
    "\n",
    "diag = df.copy()\n",
    "df_pred = y_valid1.copy()\n",
    "\n",
    "diag['기준일자'] =diag['time_idx'].apply(lambda x: datetime.fromordinal(x + 736694) )\n",
    "diag[\"기준일자\"] = pd.to_datetime(diag['기준일자'], format='%Y-%m-%d')\n",
    "df_pred['기준일자'] =df_pred['time_idx'].apply(lambda x: datetime.fromordinal(x + 736694) )\n",
    "df_pred[\"기준일자\"] = pd.to_datetime(df_pred['기준일자'], format='%Y-%m-%d')\n",
    "\n",
    "df_pred['배출량'] = y_valid1['Label']\n",
    "diag = diag[['기준일자','행정동명', '배출량']]\n",
    "df_pred = df_pred[['기준일자','행정동명', '배출량']]\n",
    "df_new = pd.concat([diag, df_pred], axis=0)\n",
    "\n",
    "data = df_new.copy()\n",
    "f, ax = plt.subplots(nrows=len(data['행정동명'].unique()), ncols=1, figsize=(30, 100))\n",
    "\n",
    "for i, hjd in enumerate(data['행정동명'].unique()):\n",
    "    temp1 = data[(data['행정동명']==hjd) & ((data.기준일자>='2018-07-01')&(data.기준일자<'2018-09-01'))]\n",
    "    temp2 = data[(data['행정동명']==hjd) & ((data.기준일자>='2019-07-01')&(data.기준일자<'2019-09-01'))]\n",
    "    temp3 = data[(data['행정동명']==hjd) & ((data.기준일자>='2020-07-01')&(data.기준일자<'2020-09-01'))]  \n",
    "    temp4 = data[(data['행정동명']==hjd) & ((data.기준일자>='2021-07-01')&(data.기준일자<'2021-09-01'))]\n",
    "    temp5 = data[(data['행정동명']==hjd)]\n",
    "    temp5 = temp5[(temp5.isin(temp1)==False) & (temp5.isin(temp2)==False) & (temp5.isin(temp3)==False) & (temp5.isin(temp4)==False)] \n",
    "\n",
    "    sns.lineplot(x=temp5['기준일자'], y=temp5['배출량'], ax=ax[i], ci=None, label='True', lw=2, color='#2c7fb8')\n",
    "    sns.lineplot(x=temp1['기준일자'], y=temp1['배출량'], ax=ax[i], ci=None, label='True', lw=2, color='#de2d26')\n",
    "    sns.lineplot(x=temp2['기준일자'], y=temp2['배출량'], ax=ax[i], ci=None, label='True', lw=2, color='#de2d26')\n",
    "    sns.lineplot(x=temp3['기준일자'], y=temp3['배출량'], ax=ax[i], ci=None, label='True', lw=2, color='#de2d26')\n",
    "    sns.lineplot(x=temp4['기준일자'], y=temp4['배출량'], ax=ax[i], ci=None, label='Prediction', lw=2, color='#de2d26')\n",
    "\n",
    "\n",
    "    f.patch.set_facecolor('xkcd:white')\n",
    "\n",
    "    ax[i].set_title(f'{hjd}: 2018년 7-8월', fontsize=15)\n",
    "    ax[i].set_title(f'{hjd}: 2019년 7-8월', fontsize=15)\n",
    "    ax[i].set_title(f'{hjd}: 2020년 7-8월', fontsize=15)\n",
    "    ax[i].set_title(f'{hjd}: 2021년 7-8월', fontsize=15)\n",
    "\n",
    "\n",
    "plt.tight_layout()\n",
    "plt.show()\n",
    "#f.savefig(f'{col}_pred.png')\n",
    "\n",
    "## 행정동별 그래프\n",
    "data = df_new.copy()\n",
    "fg, ax = plt.subplots(nrows=len(data['행정동명'].unique()), ncols=1, figsize=(10, 60))\n",
    "\n",
    "for i, hjd in enumerate(data['행정동명'].unique()):\n",
    "    temp1 = data[(data['행정동명']==hjd) & (data.기준일자 <'2021-07-01')]\n",
    "    temp2 = data[(data['행정동명']==hjd) & (data.기준일자>='2021-07-01')] \n",
    "    sns.lineplot(x=temp1['기준일자'], y=temp1['배출량'], ax=ax[i], ci=None, label='True',color='#2c7fb8')\n",
    "    sns.lineplot(x=temp2['기준일자'], y=temp2['배출량'], ax=ax[i], ci=None, label='Prediction', color='#de2d26')\n",
    "\n",
    "    ax[i].set_title(f'{hjd}', fontsize=15)\n",
    "\n",
    "plt.tight_layout()\n",
    "plt.show()\n",
    "#fg.savefig(f'{col}_hjd.png')"
   ]
  },
  {
   "cell_type": "code",
   "execution_count": null,
   "id": "de2eb8a6",
   "metadata": {
    "ExecuteTime": {
     "end_time": "2021-09-15T05:38:21.205976Z",
     "start_time": "2021-09-15T05:38:21.205967Z"
    }
   },
   "outputs": [],
   "source": [
    "## 폰트\n",
    "from matplotlib import font_manager, rc\n",
    "rc('font', family='AppleGothic')\n",
    "plt.rcParams['axes.unicode_minus'] = False"
   ]
  },
  {
   "cell_type": "code",
   "execution_count": null,
   "id": "74fd2da4",
   "metadata": {
    "ExecuteTime": {
     "end_time": "2021-09-15T05:38:21.206487Z",
     "start_time": "2021-09-15T05:38:21.206479Z"
    }
   },
   "outputs": [],
   "source": [
    "#interpret_model(catboost)\n",
    "plot_model(cat, 'feature')"
   ]
  },
  {
   "cell_type": "code",
   "execution_count": null,
   "id": "5fe4ae20",
   "metadata": {
    "ExecuteTime": {
     "end_time": "2021-09-15T05:38:21.207188Z",
     "start_time": "2021-09-15T05:38:21.207180Z"
    }
   },
   "outputs": [],
   "source": [
    "plot_model(rf, 'feature')"
   ]
  },
  {
   "cell_type": "markdown",
   "id": "10c19eb3",
   "metadata": {},
   "source": [
    "# Model 3. Cluster 모델링"
   ]
  },
  {
   "cell_type": "markdown",
   "id": "990fc647",
   "metadata": {},
   "source": [
    "## 클러스터별 모델링"
   ]
  },
  {
   "cell_type": "code",
   "execution_count": null,
   "id": "3a7eed6f",
   "metadata": {
    "ExecuteTime": {
     "end_time": "2021-09-15T05:59:43.315695Z",
     "start_time": "2021-09-15T05:59:40.053715Z"
    }
   },
   "outputs": [],
   "source": [
    "#df_train\n",
    "df = pd.read_csv('df_ver0914.csv', encoding='cp949')\n",
    "df[\"기준일자\"] = pd.to_datetime(df['기준일자'], format='%Y-%m-%d')\n",
    "df['year_month'] = pd.to_datetime(df['year_month'])\n",
    "\n",
    "\n",
    "#df_test\n",
    "df_test = pd.read_csv('df_test_pred.csv', encoding='cp949')\n",
    "df_test[\"기준일자\"] = pd.to_datetime(df_test['기준일자'], format='%Y-%m-%d')"
   ]
  },
  {
   "cell_type": "code",
   "execution_count": null,
   "id": "402173b7",
   "metadata": {
    "ExecuteTime": {
     "end_time": "2021-09-15T05:59:43.421227Z",
     "start_time": "2021-09-15T05:59:43.316820Z"
    }
   },
   "outputs": [],
   "source": [
    "df = df[df['배출량'].notna()]"
   ]
  },
  {
   "cell_type": "code",
   "execution_count": null,
   "id": "23aa1601",
   "metadata": {
    "ExecuteTime": {
     "end_time": "2021-09-15T05:59:43.859811Z",
     "start_time": "2021-09-15T05:59:43.422131Z"
    }
   },
   "outputs": [],
   "source": [
    "df['dateName'] = df['dateName'].fillna('일반')\n",
    "df_test['dateName'] = df_test['dateName'].fillna('일반')\n",
    "df_test['화물량'] = df_test['화물량'].fillna(9104.84)\n",
    "df = df.fillna(0)\n",
    "df_test = df_test.fillna(0)"
   ]
  },
  {
   "cell_type": "code",
   "execution_count": null,
   "id": "177c10dc",
   "metadata": {
    "ExecuteTime": {
     "end_time": "2021-09-15T05:59:43.944352Z",
     "start_time": "2021-09-15T05:59:43.861270Z"
    }
   },
   "outputs": [],
   "source": [
    "drop_list = ['행정동_코드', '배출건수', '총_지불금액', '외식_결제건수', '외식_결제금액', \n",
    "       '간식_결제건수', '농축수산물_결제건수', '마트/슈퍼마켓_결제건수', '배달_결제건수', '부페_결제건수',\n",
    "       '식품_결제건수', '아시아음식_결제건수', '양식_결제건수', '주점및주류판매_결제건수', '패스트푸드_결제건수',\n",
    "       '한식_결제건수', '간식_결제금액', '농축수산물_결제금액', '마트/슈퍼마켓_결제금액', '배달_결제금액',\n",
    "       '부페_결제금액', '식품_결제금액', '아시아음식_결제금액', '양식_결제금액', '주점및주류판매_결제금액',\n",
    "       '패스트푸드_결제금액', '한식_결제금액', '외식_결제건수', '외식_결제금액', '1회당_외식_결제금액',\n",
    "       '1회당_마트/슈퍼마켓_결제금액', '1회당_배달_결제금액', '1회당_농축수산물_결제금액']\n",
    "df = df.drop(drop_list, axis=1)"
   ]
  },
  {
   "cell_type": "code",
   "execution_count": null,
   "id": "29055053",
   "metadata": {
    "ExecuteTime": {
     "end_time": "2021-09-15T05:59:44.040734Z",
     "start_time": "2021-09-15T05:59:43.945228Z"
    }
   },
   "outputs": [],
   "source": [
    "df1 = df.copy()\n",
    "cluster_etc = ['성산읍', '표선면', '예래동', '도두동', '중앙동']\n",
    "df1 = df1[df1['행정동명'].isin(cluster_etc) == True]\n",
    "df_test1 = df_test[df_test['행정동명'].isin(cluster_etc) == True]\n",
    "df_train = df1.copy()"
   ]
  },
  {
   "cell_type": "markdown",
   "id": "f64245e1",
   "metadata": {},
   "source": [
    "## LASSO 변수선택"
   ]
  },
  {
   "cell_type": "markdown",
   "id": "4e84f9bc",
   "metadata": {},
   "source": [
    "### 라벨 인코딩"
   ]
  },
  {
   "cell_type": "code",
   "execution_count": null,
   "id": "19e3e680",
   "metadata": {
    "ExecuteTime": {
     "end_time": "2021-09-15T05:59:44.058904Z",
     "start_time": "2021-09-15T05:59:44.042172Z"
    }
   },
   "outputs": [],
   "source": [
    "#cate_fe = {'시_구분','dayofweek_name','season','dateName','period','행정동명','읍면동'}\n",
    "cate_fe = {'year','dayofweek_name','season','dateName','행정동명','시_구분','period','읍면동','month'}\n",
    "for col in cate_fe:\n",
    "    local_map = {}\n",
    "    for i, loc in enumerate(df1[col].unique()):\n",
    "        local_map[loc] = i\n",
    "    df1[col] = df1[col].map(local_map)\n",
    "    df1[col] = df1[col].astype('category').cat.codes\n"
   ]
  },
  {
   "cell_type": "code",
   "execution_count": null,
   "id": "11ee625e",
   "metadata": {
    "ExecuteTime": {
     "end_time": "2021-09-15T05:59:44.062567Z",
     "start_time": "2021-09-15T05:59:44.060414Z"
    }
   },
   "outputs": [],
   "source": [
    "cat_features = [\"시_구분\", \"행정동명\",'dayofweek_name','season','dateName','is_weekend','isHoliday',\n",
    "                'year','month','clust_방문거주', 'clust_방문거주2',\n",
    "                'kclus_배출', 'kclus_거주연령', 'kclus_시간유동', 'kclus_방문유동', 'kclus_카드소비',\n",
    "                '태풍','period','읍면동']"
   ]
  },
  {
   "cell_type": "markdown",
   "id": "2ff89599",
   "metadata": {},
   "source": [
    "## 모델링 시작"
   ]
  },
  {
   "cell_type": "code",
   "execution_count": 3,
   "id": "a210f430",
   "metadata": {
    "ExecuteTime": {
     "end_time": "2021-09-15T05:59:44.077023Z",
     "start_time": "2021-09-15T05:59:44.064088Z"
    }
   },
   "outputs": [
    {
     "data": {
      "text/plain": [
       "321"
      ]
     },
     "execution_count": 3,
     "metadata": {},
     "output_type": "execute_result"
    }
   ],
   "source": [
    "features = ['kclus_세대수','kclus_month_코로나','면적','density','읍면동','평균 해면기압(hPa)',\n",
    "            '30대_항공','30대_맛집','20대_맛집','제주_확진자수','30대_버스','신선식품지수','day','60대_숙박',\n",
    "            '평균 상대습도(%)','50대_제주코로나','50대_버스','60대_맛집','period','40대_날씨','합계 일사량(MJ/m2)',\n",
    "            '세대당_농축수산물_결제금액','여성_거주인구','30대_날씨','제주항공주가','전국_격리중_환자수','고등학교등교여부',\n",
    "            '초등학교등교여부','태풍','제주_사망자수','평균기온(°C)','제주_해외유입수','is_weekend','1시간 최다일사량(MJ/m2)',\n",
    "            '전체_렌트카','최대 순간 풍속(m/s)','20대_숙박','20대_렌트카','50대_날씨','40대_숙박','세대수','식료품소매',\n",
    "            'dayofweek_name','dateName','60대_렌트카','20대_코로나','평균 풍속(m/s)','최고 해면기압(hPa)','전국_해외유입수',\n",
    "            '전체_코로나','60대_제주코로나','중학교개수','40대_맛집','남성_거주인구','isHoliday','행정동명','50대_여성_코로나',\n",
    "            '30대_렌트카','clust_방문거주','제주_격리중_환자수','평균 전운량(1/10)','40대_여성_코로나','제주_전일대비_증감수',\n",
    "            '20대_버스','전체_제주코로나','60대_날씨','전체_숙박','kclus_ratio','최저기온(°C)','합계 소형증발량(mm)',\n",
    "            'kclus_배출','평균 현지기압(hPa)','60대_남성_코로나','50대_맛집','캠프/별장/펜션','세대당_배달_결제건수',\n",
    "            '합계 대형증발량(mm)','dayofyear','최고기온(°C)','최저 해면기압(hPa)','초등학교개수','전체_항공',\n",
    "            '평균 중하층운량(1/10)','time_idx','60대_버스','50대_항공','전체_버스','생활물가지수','강수 계속시간(hr)',\n",
    "            'kclus_결제건수','유스호스텔','대기업본사','최소 상대습도(%)','kclus_카드소비','전국_확진자수','20대_항공',\n",
    "            'year','20대_제주코로나','60대_여성_코로나','60대_항공','전국_전일대비_증감수','상가','평균 이슬점온도(°C)',\n",
    "            '학문/교육','month_cos','50대_숙박','숙박','거점지역_개수','민박/하숙','고등학교개수','30대_제주코로나',\n",
    "            '안개 계속시간(hr)','40대_제주코로나','weeknumber','제주_격리해제수','kclus_배출량2','스타벅스','50대_남성_코로나',\n",
    "            '40대_항공','30대_숙박','kclus_시간유동','한국인세대수','하나투어주가','일강수량(mm)','캠핑장',\n",
    "            '세대당_마트/슈퍼마켓_결제금액','50대_렌트카','10분 최다 강수량(mm)','month','1시간 최다강수량(mm)',\n",
    "            '최대 풍속(m/s)','20대_날씨','합계 일조시간(hr)','40대_남성_코로나','전체_맛집','중학교등교여부',\n",
    "            'season','clust_방문거주2','kclus_카드','dayofweek_num','시_구분','호텔/콘도','30대_코로나',\n",
    "            '모텔/여관/여인숙','음식','전국_사망자수','전국_격리해제수','kclus_방문유동','kclus_거주연령','전체_날씨',\n",
    "            '세대당_외식_결제금액','총거주인구','롯데관광주가','화물량','40대_렌트카','40대_버스','학교개수','평균 증기압(hPa)',\n",
    "            '카페','전체_코로나_lag1','전체_코로나_lag3','전체_코로나_lag5','전체_코로나_lag7','전체_코로나_lag14',\n",
    "            '전체_숙박_lag1','전체_숙박_lag3','전체_숙박_lag5','전체_숙박_lag7','전체_숙박_lag14','전체_버스_lag1',\n",
    "            '전체_버스_lag3','전체_버스_lag5','전체_버스_lag7','전체_버스_lag14','전체_맛집_lag1','전체_맛집_lag3',\n",
    "            '전체_맛집_lag5','전체_맛집_lag7','전체_맛집_lag14','전체_렌트카_lag1','전체_렌트카_lag3','전체_렌트카_lag5',\n",
    "            '전체_렌트카_lag7','전체_렌트카_lag14','전체_날씨_lag1','전체_날씨_lag3','전체_날씨_lag5','전체_날씨_lag7',\n",
    "            '전체_날씨_lag14','전체_항공_lag1','전체_항공_lag3','전체_항공_lag5','전체_항공_lag7','전체_항공_lag14',\n",
    "            '전체_제주코로나_lag1','전체_제주코로나_lag3','전체_제주코로나_lag5','전체_제주코로나_lag7','전체_제주코로나_lag14',\n",
    "            '평균기온(°C)_lag1','평균기온(°C)_lag3','평균기온(°C)_lag5','평균기온(°C)_lag7','최저기온(°C)_lag1',\n",
    "            '최저기온(°C)_lag3','최저기온(°C)_lag5','최저기온(°C)_lag7','최고기온(°C)_lag1','최고기온(°C)_lag3',\n",
    "            '최고기온(°C)_lag5','최고기온(°C)_lag7','강수 계속시간(hr)_lag1','강수 계속시간(hr)_lag3','강수 계속시간(hr)_lag5',\n",
    "            '강수 계속시간(hr)_lag7','10분 최다 강수량(mm)_lag1','10분 최다 강수량(mm)_lag3','10분 최다 강수량(mm)_lag5',\n",
    "            '10분 최다 강수량(mm)_lag7','1시간 최다강수량(mm)_lag1','1시간 최다강수량(mm)_lag3','1시간 최다강수량(mm)_lag5',\n",
    "            '1시간 최다강수량(mm)_lag7','일강수량(mm)_lag1','일강수량(mm)_lag3','일강수량(mm)_lag5','일강수량(mm)_lag7',\n",
    "            '최대 순간 풍속(m/s)_lag1','최대 순간 풍속(m/s)_lag3','최대 순간 풍속(m/s)_lag5','최대 순간 풍속(m/s)_lag7',\n",
    "            '최대 풍속(m/s)_lag1','최대 풍속(m/s)_lag3','최대 풍속(m/s)_lag5','최대 풍속(m/s)_lag7','평균 풍속(m/s)_lag1',\n",
    "            '평균 풍속(m/s)_lag3','평균 풍속(m/s)_lag5','평균 풍속(m/s)_lag7','평균 이슬점온도(°C)_lag1',\n",
    "            '평균 이슬점온도(°C)_lag3','평균 이슬점온도(°C)_lag5','평균 이슬점온도(°C)_lag7','최소 상대습도(%)_lag1',\n",
    "            '최소 상대습도(%)_lag3','최소 상대습도(%)_lag5','최소 상대습도(%)_lag7','평균 상대습도(%)_lag1',\n",
    "            '평균 상대습도(%)_lag3','평균 상대습도(%)_lag5','평균 상대습도(%)_lag7','평균 증기압(hPa)_lag1',\n",
    "            '평균 증기압(hPa)_lag3','평균 증기압(hPa)_lag5','평균 증기압(hPa)_lag7','평균 현지기압(hPa)_lag1',\n",
    "            '평균 현지기압(hPa)_lag3','평균 현지기압(hPa)_lag5','평균 현지기압(hPa)_lag7','최고 해면기압(hPa)_lag1',\n",
    "            '최고 해면기압(hPa)_lag3','최고 해면기압(hPa)_lag5','최고 해면기압(hPa)_lag7','최저 해면기압(hPa)_lag1',\n",
    "            '최저 해면기압(hPa)_lag3','최저 해면기압(hPa)_lag5','최저 해면기압(hPa)_lag7','평균 해면기압(hPa)_lag1',\n",
    "            '평균 해면기압(hPa)_lag3','평균 해면기압(hPa)_lag5','평균 해면기압(hPa)_lag7','합계 일조시간(hr)_lag1',\n",
    "            '합계 일조시간(hr)_lag3','합계 일조시간(hr)_lag5','합계 일조시간(hr)_lag7','1시간 최다일사량(MJ/m2)_lag1',\n",
    "            '1시간 최다일사량(MJ/m2)_lag3','1시간 최다일사량(MJ/m2)_lag5','1시간 최다일사량(MJ/m2)_lag7',\n",
    "            '합계 일사량(MJ/m2)_lag1','합계 일사량(MJ/m2)_lag3','합계 일사량(MJ/m2)_lag5','합계 일사량(MJ/m2)_lag7',\n",
    "            '평균 전운량(1/10)_lag1','평균 전운량(1/10)_lag3','평균 전운량(1/10)_lag5','평균 전운량(1/10)_lag7',\n",
    "            '평균 중하층운량(1/10)_lag1','평균 중하층운량(1/10)_lag3','평균 중하층운량(1/10)_lag5','평균 중하층운량(1/10)_lag7',\n",
    "            '합계 대형증발량(mm)_lag1','합계 대형증발량(mm)_lag3','합계 대형증발량(mm)_lag5','합계 대형증발량(mm)_lag7',\n",
    "            '합계 소형증발량(mm)_lag1','합계 소형증발량(mm)_lag3','합계 소형증발량(mm)_lag5','합계 소형증발량(mm)_lag7',\n",
    "            '안개 계속시간(hr)_lag1','안개 계속시간(hr)_lag3','안개 계속시간(hr)_lag5','안개 계속시간(hr)_lag7','태풍_lag1',\n",
    "            '태풍_lag3','태풍_lag5','태풍_lag7','10대_이하_낮_제주_거주인구','20대_낮_제주_거주인구','40_50대_낮_제주_거주인구',\n",
    "            '60대_이상_낮_제주_거주인구','20대_밤_제주_거주인구','30대_밤_제주_거주인구','40_50대_밤_제주_거주인구',\n",
    "            '30대_낮_제주_거주인구','세대1','세대2','세대3','세대4이상','1인가구','1인가구비율']\n",
    "\n",
    "\n",
    "features = list(dict.fromkeys(features))\n",
    "len(features)"
   ]
  },
  {
   "cell_type": "code",
   "execution_count": null,
   "id": "52cdf1ce",
   "metadata": {
    "ExecuteTime": {
     "end_time": "2021-09-15T05:59:45.289238Z",
     "start_time": "2021-09-15T05:59:44.077924Z"
    },
    "scrolled": true
   },
   "outputs": [],
   "source": [
    "\n",
    "target = '배출량'\n",
    "features = [col for col in features if col not in\\\n",
    "            [target,'기준일자','year_month','행정동_코드','배출건수','총_지불금액','1인당_배출량']]\n",
    "\n",
    "selected_features = lasso(df1,target)\n",
    "#fit_model, y_test_pred = catboost(train, target, selected_features)"
   ]
  },
  {
   "cell_type": "markdown",
   "id": "a1243081",
   "metadata": {},
   "source": [
    "### Correlation 확인"
   ]
  },
  {
   "cell_type": "code",
   "execution_count": null,
   "id": "0995f853",
   "metadata": {
    "ExecuteTime": {
     "end_time": "2021-09-15T05:59:48.401581Z",
     "start_time": "2021-09-15T05:59:45.291410Z"
    },
    "scrolled": true
   },
   "outputs": [],
   "source": [
    "pd.DataFrame(df1.corr()['배출량'].abs().sort_values(ascending=False))"
   ]
  },
  {
   "cell_type": "code",
   "execution_count": null,
   "id": "da4462ae",
   "metadata": {
    "ExecuteTime": {
     "end_time": "2021-09-15T05:59:51.531074Z",
     "start_time": "2021-09-15T05:59:48.402816Z"
    }
   },
   "outputs": [],
   "source": [
    "corr_df = pd.DataFrame(df1.corr()['배출량'].abs().sort_values(ascending=False))\n",
    "#corr_df.to_csv('corr.csv', encoding=\"utf-8-sig\")\n",
    "corr_df.index[1:50]"
   ]
  },
  {
   "cell_type": "markdown",
   "id": "bc16cd35",
   "metadata": {},
   "source": [
    "## 배출량 Modeling"
   ]
  },
  {
   "cell_type": "code",
   "execution_count": null,
   "id": "1eb1ce14",
   "metadata": {
    "ExecuteTime": {
     "end_time": "2021-09-15T05:59:55.798184Z",
     "start_time": "2021-09-15T05:59:51.532040Z"
    }
   },
   "outputs": [],
   "source": [
    "df_train = df1[selected_features] # 설명변수\n",
    "df_train['y'] = df1['배출량'] # 타겟변수\n",
    "\n",
    "df_valid = df_test1[selected_features]\n",
    "## setup의 다양한 옵션 \n",
    "## https://github.com/pycaret/pycaret/blob/master/pycaret/classification.py\n",
    "\n",
    "from pycaret.regression import *\n",
    "setup = setup(df_train, target = 'y',\n",
    "              categorical_features = [\"시_구분\", \"행정동명\",'dayofweek_name','season','dateName','is_weekend',\n",
    "                                      'isHoliday','year','month','clust_방문거주', 'clust_방문거주2',\n",
    "                                      'kclus_배출', 'kclus_거주연령', 'kclus_시간유동', 'kclus_방문유동', 'kclus_카드소비',\n",
    "                                      '태풍','period','읍면동'],\n",
    "              session_id = 1997\n",
    "             )"
   ]
  },
  {
   "cell_type": "code",
   "execution_count": null,
   "id": "24c803be",
   "metadata": {
    "ExecuteTime": {
     "end_time": "2021-09-15T06:03:07.502366Z",
     "start_time": "2021-09-15T05:59:55.799662Z"
    }
   },
   "outputs": [],
   "source": [
    "best = compare_models(sort=\"RMSE\", exclude=['omp','par','xgboost','lasso','lr','lightgbm','gbr','et','huber',\n",
    "                                            'en','ridge','llar','br','knn','dt','ada'])"
   ]
  },
  {
   "cell_type": "code",
   "execution_count": null,
   "id": "c68d1eee",
   "metadata": {
    "ExecuteTime": {
     "end_time": "2021-09-15T06:05:24.140877Z",
     "start_time": "2021-09-15T06:03:40.348949Z"
    }
   },
   "outputs": [],
   "source": [
    "cat= create_model('catboost')"
   ]
  },
  {
   "cell_type": "code",
   "execution_count": null,
   "id": "b299eb6a",
   "metadata": {
    "ExecuteTime": {
     "end_time": "2021-09-15T06:06:49.660130Z",
     "start_time": "2021-09-15T06:05:24.142889Z"
    }
   },
   "outputs": [],
   "source": [
    "rf = create_model('rf')"
   ]
  },
  {
   "cell_type": "code",
   "execution_count": null,
   "id": "0acdcb81",
   "metadata": {
    "ExecuteTime": {
     "end_time": "2021-09-15T06:09:57.875310Z",
     "start_time": "2021-09-15T06:06:49.660910Z"
    }
   },
   "outputs": [],
   "source": [
    "blend1 = blend_models([cat,rf],optimize='RMSE',verbose=True)"
   ]
  },
  {
   "cell_type": "code",
   "execution_count": null,
   "id": "b148868d",
   "metadata": {
    "ExecuteTime": {
     "end_time": "2021-09-15T06:13:49.999156Z",
     "start_time": "2021-09-15T06:09:57.877070Z"
    }
   },
   "outputs": [],
   "source": [
    "final_model = finalize_model(blend1)"
   ]
  },
  {
   "cell_type": "code",
   "execution_count": null,
   "id": "4088700d",
   "metadata": {
    "ExecuteTime": {
     "end_time": "2021-09-15T06:16:36.888034Z",
     "start_time": "2021-09-15T06:16:36.512845Z"
    }
   },
   "outputs": [],
   "source": [
    "y_valid = predict_model(final_model, data = df_valid)"
   ]
  },
  {
   "cell_type": "code",
   "execution_count": null,
   "id": "431267f1",
   "metadata": {
    "ExecuteTime": {
     "end_time": "2021-09-15T06:18:10.417329Z",
     "start_time": "2021-09-15T06:18:10.403799Z"
    }
   },
   "outputs": [],
   "source": [
    "subm = y_valid.groupby(['행정동명','year','month']).sum().reset_index()[['행정동명','month','Label']]"
   ]
  },
  {
   "cell_type": "code",
   "execution_count": null,
   "id": "a644d548",
   "metadata": {
    "ExecuteTime": {
     "end_time": "2021-09-15T06:19:40.964172Z",
     "start_time": "2021-09-15T06:19:40.949705Z"
    }
   },
   "outputs": [],
   "source": [
    "subm = subm.pivot(index=['행정동명'], columns='month', values='Label').reset_index().rename(columns = {'Label':'배출량', \n",
    "                                                                                                   7 : \"7월 배출량(g)\",\n",
    "                                                                                                   8 :\"8월 배출량(g)\"})\n",
    "                                                                                                   \n"
   ]
  },
  {
   "cell_type": "code",
   "execution_count": null,
   "id": "189740c9",
   "metadata": {
    "ExecuteTime": {
     "end_time": "2021-09-15T06:20:48.539033Z",
     "start_time": "2021-09-15T06:20:48.530991Z"
    }
   },
   "outputs": [],
   "source": [
    "subm.to_csv('submission_etc.csv',index=False, encoding='cp949')"
   ]
  },
  {
   "cell_type": "code",
   "execution_count": null,
   "id": "70e0e9b2",
   "metadata": {
    "ExecuteTime": {
     "end_time": "2021-09-15T06:16:17.882360Z",
     "start_time": "2021-09-15T06:16:17.858835Z"
    }
   },
   "outputs": [],
   "source": [
    "y_valid['기준일자'] =y_valid['time_idx'].apply(lambda x: datetime.fromordinal(x + 736694) )\n",
    "y_valid[\"기준일자\"] = pd.to_datetime(diag['기준일자'], format='%Y-%m-%d')\n"
   ]
  },
  {
   "cell_type": "code",
   "execution_count": null,
   "id": "b8814fb0",
   "metadata": {
    "ExecuteTime": {
     "end_time": "2021-09-15T06:14:36.177891Z",
     "start_time": "2021-09-15T06:14:36.015582Z"
    }
   },
   "outputs": [],
   "source": [
    "# 예측값 그래프\n",
    "df2= df.copy()\n",
    "cluster_etc = ['성산읍', '표선면', '예래동', '도두동', '중앙동']\n",
    "df2 = df2[df2['행정동명'].isin(cluster_etc) == True]\n",
    "diag = df2.copy()\n",
    "df_pred = y_valid.copy()\n",
    "\n",
    "diag['기준일자'] =diag['time_idx'].apply(lambda x: datetime.fromordinal(x + 736694) )\n",
    "diag[\"기준일자\"] = pd.to_datetime(diag['기준일자'], format='%Y-%m-%d')\n",
    "df_pred['기준일자'] =df_pred['time_idx'].apply(lambda x: datetime.fromordinal(x + 736694) )\n",
    "df_pred[\"기준일자\"] = pd.to_datetime(df_pred['기준일자'], format='%Y-%m-%d')\n",
    "\n",
    "df_pred['배출량'] = y_valid['Label']\n",
    "diag = diag[['기준일자','행정동명', '배출량']]\n",
    "df_pred = df_pred[['기준일자','행정동명', '배출량']]\n",
    "df_new = pd.concat([diag, df_pred], axis=0)\n"
   ]
  },
  {
   "cell_type": "code",
   "execution_count": null,
   "id": "4608d4ab",
   "metadata": {
    "ExecuteTime": {
     "end_time": "2021-09-15T06:15:04.502674Z",
     "start_time": "2021-09-15T06:15:04.497828Z"
    }
   },
   "outputs": [],
   "source": [
    "df_new.shape"
   ]
  },
  {
   "cell_type": "code",
   "execution_count": null,
   "id": "189893b4",
   "metadata": {
    "ExecuteTime": {
     "end_time": "2021-09-15T06:22:07.347240Z",
     "start_time": "2021-09-15T06:22:05.122938Z"
    },
    "scrolled": false
   },
   "outputs": [],
   "source": [
    "# 예측값 그래프\n",
    "df2= df.copy()\n",
    "cluster_etc = ['성산읍', '표선면', '예래동', '도두동', '중앙동']\n",
    "df2 = df2[df2['행정동명'].isin(cluster_etc) == True]\n",
    "diag = df2.copy()\n",
    "df_pred = y_valid.copy()\n",
    "\n",
    "diag['기준일자'] =diag['time_idx'].apply(lambda x: datetime.fromordinal(x + 736694) )\n",
    "diag[\"기준일자\"] = pd.to_datetime(diag['기준일자'], format='%Y-%m-%d')\n",
    "df_pred['기준일자'] =df_pred['time_idx'].apply(lambda x: datetime.fromordinal(x + 736694) )\n",
    "df_pred[\"기준일자\"] = pd.to_datetime(df_pred['기준일자'], format='%Y-%m-%d')\n",
    "\n",
    "df_pred['배출량'] = y_valid['Label']\n",
    "diag = diag[['기준일자','행정동명', '배출량']]\n",
    "df_pred = df_pred[['기준일자','행정동명', '배출량']]\n",
    "df_new = pd.concat([diag, df_pred], axis=0)\n",
    "\n",
    "data = df_new.copy()\n",
    "f, ax = plt.subplots(nrows=len(data['행정동명'].unique()), ncols=1, figsize=(30, 50))\n",
    "\n",
    "for i, hjd in enumerate(data['행정동명'].unique()):\n",
    "    temp1 = data[(data['행정동명']==hjd) & ((data.기준일자>='2018-07-01')&(data.기준일자<'2018-09-01'))]\n",
    "    temp2 = data[(data['행정동명']==hjd) & ((data.기준일자>='2019-07-01')&(data.기준일자<'2019-09-01'))]\n",
    "    temp3 = data[(data['행정동명']==hjd) & ((data.기준일자>='2020-07-01')&(data.기준일자<'2020-09-01'))]  \n",
    "    temp4 = data[(data['행정동명']==hjd) & ((data.기준일자>='2021-07-01')&(data.기준일자<'2021-09-01'))]\n",
    "    temp5 = data[(data['행정동명']==hjd)]\n",
    "    temp5 = temp5[(temp5.isin(temp1)==False) & (temp5.isin(temp2)==False) & (temp5.isin(temp3)==False) & (temp5.isin(temp4)==False)] \n",
    "\n",
    "    sns.lineplot(x=temp5['기준일자'], y=temp5['배출량'], ax=ax[i], ci=None, label='True', lw=2, color='#2c7fb8')\n",
    "    sns.lineplot(x=temp1['기준일자'], y=temp1['배출량'], ax=ax[i], ci=None, label='True', lw=2, color='#de2d26')\n",
    "    sns.lineplot(x=temp2['기준일자'], y=temp2['배출량'], ax=ax[i], ci=None, label='True', lw=2, color='#de2d26')\n",
    "    sns.lineplot(x=temp3['기준일자'], y=temp3['배출량'], ax=ax[i], ci=None, label='True', lw=2, color='#de2d26')\n",
    "    sns.lineplot(x=temp4['기준일자'], y=temp4['배출량'], ax=ax[i], ci=None, label='Prediction', lw=2, color='#de2d26')\n",
    "\n",
    "\n",
    "    f.patch.set_facecolor('xkcd:white')\n",
    "\n",
    "    ax[i].set_title(f'{hjd}: 2018년 7-8월', fontsize=15)\n",
    "    ax[i].set_title(f'{hjd}: 2019년 7-8월', fontsize=15)\n",
    "    ax[i].set_title(f'{hjd}: 2020년 7-8월', fontsize=15)\n",
    "    ax[i].set_title(f'{hjd}: 2021년 7-8월', fontsize=15)\n",
    "\n",
    "\n",
    "plt.tight_layout()\n",
    "plt.show()\n",
    "#f.savefig(f'{col}_pred.png')\n",
    "\n",
    "## 행정동별 그래프\n",
    "data = df_new.copy()\n",
    "fg, ax = plt.subplots(nrows=len(data['행정동명'].unique()), ncols=1, figsize=(10, 60))\n",
    "\n",
    "for i, hjd in enumerate(data['행정동명'].unique()):\n",
    "    temp1 = data[(data['행정동명']==hjd) & (data.기준일자 <'2021-07-01')]\n",
    "    temp2 = data[(data['행정동명']==hjd) & (data.기준일자>='2021-07-01')] \n",
    "    sns.lineplot(x=temp1['기준일자'], y=temp1['배출량'], ax=ax[i], ci=None, label='True',color='#2c7fb8')\n",
    "    sns.lineplot(x=temp2['기준일자'], y=temp2['배출량'], ax=ax[i], ci=None, label='Prediction', color='#de2d26')\n",
    "\n",
    "    ax[i].set_title(f'{hjd}', fontsize=15)\n",
    "\n",
    "plt.tight_layout()\n",
    "plt.show()\n",
    "#fg.savefig(f'{col}_hjd.png')\n"
   ]
  },
  {
   "cell_type": "code",
   "execution_count": null,
   "id": "8c94a1b0",
   "metadata": {
    "ExecuteTime": {
     "end_time": "2021-09-15T04:03:43.354695Z",
     "start_time": "2021-09-15T04:03:43.354688Z"
    }
   },
   "outputs": [],
   "source": [
    "## 폰트\n",
    "from matplotlib import font_manager, rc\n",
    "rc('font', family='AppleGothic')\n",
    "plt.rcParams['axes.unicode_minus'] = False"
   ]
  },
  {
   "cell_type": "code",
   "execution_count": null,
   "id": "702d6750",
   "metadata": {
    "ExecuteTime": {
     "end_time": "2021-09-15T04:03:43.356142Z",
     "start_time": "2021-09-15T04:03:43.356135Z"
    }
   },
   "outputs": [],
   "source": [
    "#interpret_model(catboost)\n",
    "plot_model(cat, 'feature')"
   ]
  },
  {
   "cell_type": "code",
   "execution_count": null,
   "id": "d69a7ccd",
   "metadata": {
    "ExecuteTime": {
     "end_time": "2021-09-15T04:03:43.358799Z",
     "start_time": "2021-09-15T04:03:43.358792Z"
    }
   },
   "outputs": [],
   "source": [
    "plot_model(rf, 'feature')"
   ]
  }
 ],
 "metadata": {
  "kernelspec": {
   "display_name": "Python 3",
   "language": "python",
   "name": "python3"
  },
  "language_info": {
   "codemirror_mode": {
    "name": "ipython",
    "version": 3
   },
   "file_extension": ".py",
   "mimetype": "text/x-python",
   "name": "python",
   "nbconvert_exporter": "python",
   "pygments_lexer": "ipython3",
   "version": "3.8.8"
  },
  "toc": {
   "base_numbering": 1,
   "nav_menu": {},
   "number_sections": true,
   "sideBar": true,
   "skip_h1_title": false,
   "title_cell": "Table of Contents",
   "title_sidebar": "Contents",
   "toc_cell": false,
   "toc_position": {
    "height": "calc(100% - 180px)",
    "left": "10px",
    "top": "150px",
    "width": "374px"
   },
   "toc_section_display": true,
   "toc_window_display": true
  },
  "varInspector": {
   "cols": {
    "lenName": 16,
    "lenType": 16,
    "lenVar": 40
   },
   "kernels_config": {
    "python": {
     "delete_cmd_postfix": "",
     "delete_cmd_prefix": "del ",
     "library": "var_list.py",
     "varRefreshCmd": "print(var_dic_list())"
    },
    "r": {
     "delete_cmd_postfix": ") ",
     "delete_cmd_prefix": "rm(",
     "library": "var_list.r",
     "varRefreshCmd": "cat(var_dic_list()) "
    }
   },
   "types_to_exclude": [
    "module",
    "function",
    "builtin_function_or_method",
    "instance",
    "_Feature"
   ],
   "window_display": false
  }
 },
 "nbformat": 4,
 "nbformat_minor": 5
}
